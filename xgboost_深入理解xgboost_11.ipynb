{
 "cells": [
  {
   "cell_type": "markdown",
   "metadata": {},
   "source": [
    "## 深入理解xgboost十一"
   ]
  },
  {
   "cell_type": "markdown",
   "metadata": {},
   "source": [
    "### 交叉验证"
   ]
  },
  {
   "cell_type": "code",
   "execution_count": 1,
   "metadata": {},
   "outputs": [],
   "source": [
    "import numpy as np\n",
    "from sklearn.datasets import load_breast_cancer\n",
    "from sklearn.model_selection import train_test_split\n",
    "\n",
    "import xgboost as xgb"
   ]
  },
  {
   "cell_type": "code",
   "execution_count": 2,
   "metadata": {},
   "outputs": [],
   "source": [
    "cancer = load_breast_cancer()\n",
    "X = cancer.data\n",
    "y = cancer.target"
   ]
  },
  {
   "cell_type": "code",
   "execution_count": 3,
   "metadata": {},
   "outputs": [],
   "source": [
    "X_train, X_test, y_train, y_test = train_test_split(X, y, test_size=0.2, random_state=1)\n",
    "xgb_train = xgb.DMatrix(X_train, label=y_train)\n",
    "xgb_test = xgb.DMatrix(X_test, label=y_test)"
   ]
  },
  {
   "cell_type": "code",
   "execution_count": 4,
   "metadata": {},
   "outputs": [],
   "source": [
    "params = {\n",
    "    \"objective\": \"binary:logistic\",\n",
    "    \"booster\": \"gbtree\",\n",
    "    \"eta\": 0.1,\n",
    "    \"max_depth\": 6\n",
    "}\n",
    "num_round = 80\n",
    "watch_list = [(xgb_train, \"training\"), (xgb_test, \"testing\")]"
   ]
  },
  {
   "cell_type": "code",
   "execution_count": 5,
   "metadata": {},
   "outputs": [],
   "source": [
    "res = xgb.cv(params=params, dtrain=xgb_train, num_boost_round=num_round, nfold=5, metrics={\"auc\"}, seed=0, callbacks=[xgb.callback.TrainingCallback()])"
   ]
  },
  {
   "cell_type": "code",
   "execution_count": 6,
   "metadata": {},
   "outputs": [
    {
     "name": "stdout",
     "output_type": "stream",
     "text": [
      "    train-auc-mean  train-auc-std  test-auc-mean  test-auc-std\n",
      "0         0.998011       0.001436       0.965799      0.022197\n",
      "1         0.999015       0.000287       0.979118      0.019201\n",
      "2         0.999201       0.000389       0.977854      0.018810\n",
      "3         0.999246       0.000332       0.982150      0.016045\n",
      "4         0.999525       0.000405       0.982782      0.014338\n",
      "..             ...            ...            ...           ...\n",
      "75        1.000000       0.000000       0.991569      0.006516\n",
      "76        1.000000       0.000000       0.991666      0.006586\n",
      "77        1.000000       0.000000       0.991445      0.006534\n",
      "78        1.000000       0.000000       0.991445      0.006534\n",
      "79        1.000000       0.000000       0.991668      0.006576\n",
      "\n",
      "[80 rows x 4 columns]\n"
     ]
    }
   ],
   "source": [
    "print(res)"
   ]
  },
  {
   "cell_type": "code",
   "execution_count": 7,
   "metadata": {},
   "outputs": [
    {
     "name": "stdout",
     "output_type": "stream",
     "text": [
      "[0]\ttraining-logloss:0.60594\ttesting-logloss:0.61639\n",
      "[1]\ttraining-logloss:0.53422\ttesting-logloss:0.55362\n",
      "[2]\ttraining-logloss:0.47394\ttesting-logloss:0.50049\n",
      "[3]\ttraining-logloss:0.42265\ttesting-logloss:0.45501\n",
      "[4]\ttraining-logloss:0.37862\ttesting-logloss:0.41682\n",
      "[5]\ttraining-logloss:0.33972\ttesting-logloss:0.38017\n",
      "[6]\ttraining-logloss:0.30625\ttesting-logloss:0.35091\n",
      "[7]\ttraining-logloss:0.27646\ttesting-logloss:0.32244\n",
      "[8]\ttraining-logloss:0.25069\ttesting-logloss:0.30262\n",
      "[9]\ttraining-logloss:0.22759\ttesting-logloss:0.28135\n",
      "[10]\ttraining-logloss:0.20748\ttesting-logloss:0.26679\n",
      "[11]\ttraining-logloss:0.18936\ttesting-logloss:0.25174\n",
      "[12]\ttraining-logloss:0.17325\ttesting-logloss:0.23866\n",
      "[13]\ttraining-logloss:0.15915\ttesting-logloss:0.22750\n",
      "[14]\ttraining-logloss:0.14593\ttesting-logloss:0.21555\n",
      "[15]\ttraining-logloss:0.13443\ttesting-logloss:0.20662\n",
      "[16]\ttraining-logloss:0.12374\ttesting-logloss:0.19843\n",
      "[17]\ttraining-logloss:0.11466\ttesting-logloss:0.19028\n",
      "[18]\ttraining-logloss:0.10652\ttesting-logloss:0.18507\n",
      "[19]\ttraining-logloss:0.09836\ttesting-logloss:0.17967\n",
      "[20]\ttraining-logloss:0.09106\ttesting-logloss:0.17429\n",
      "[21]\ttraining-logloss:0.08462\ttesting-logloss:0.16850\n",
      "[22]\ttraining-logloss:0.07871\ttesting-logloss:0.16309\n",
      "[23]\ttraining-logloss:0.07338\ttesting-logloss:0.15955\n",
      "[24]\ttraining-logloss:0.06828\ttesting-logloss:0.15611\n",
      "[25]\ttraining-logloss:0.06414\ttesting-logloss:0.15245\n",
      "[26]\ttraining-logloss:0.06026\ttesting-logloss:0.15099\n",
      "[27]\ttraining-logloss:0.05635\ttesting-logloss:0.14919\n",
      "[28]\ttraining-logloss:0.05283\ttesting-logloss:0.14780\n",
      "[29]\ttraining-logloss:0.04972\ttesting-logloss:0.14491\n",
      "[30]\ttraining-logloss:0.04681\ttesting-logloss:0.14415\n",
      "[31]\ttraining-logloss:0.04430\ttesting-logloss:0.14305\n",
      "[32]\ttraining-logloss:0.04195\ttesting-logloss:0.14129\n",
      "[33]\ttraining-logloss:0.03980\ttesting-logloss:0.13933\n",
      "[34]\ttraining-logloss:0.03791\ttesting-logloss:0.13816\n",
      "[35]\ttraining-logloss:0.03607\ttesting-logloss:0.13852\n",
      "[36]\ttraining-logloss:0.03436\ttesting-logloss:0.13853\n",
      "[37]\ttraining-logloss:0.03281\ttesting-logloss:0.13879\n",
      "[38]\ttraining-logloss:0.03148\ttesting-logloss:0.13719\n",
      "[39]\ttraining-logloss:0.03016\ttesting-logloss:0.13669\n",
      "[40]\ttraining-logloss:0.02893\ttesting-logloss:0.13615\n",
      "[41]\ttraining-logloss:0.02783\ttesting-logloss:0.13693\n",
      "[42]\ttraining-logloss:0.02679\ttesting-logloss:0.13758\n",
      "[43]\ttraining-logloss:0.02598\ttesting-logloss:0.13596\n",
      "[44]\ttraining-logloss:0.02515\ttesting-logloss:0.13626\n",
      "[45]\ttraining-logloss:0.02432\ttesting-logloss:0.13657\n",
      "[46]\ttraining-logloss:0.02340\ttesting-logloss:0.13659\n",
      "[47]\ttraining-logloss:0.02266\ttesting-logloss:0.13708\n",
      "[48]\ttraining-logloss:0.02194\ttesting-logloss:0.13726\n",
      "[49]\ttraining-logloss:0.02119\ttesting-logloss:0.13755\n",
      "[50]\ttraining-logloss:0.02051\ttesting-logloss:0.13792\n",
      "[51]\ttraining-logloss:0.01993\ttesting-logloss:0.13674\n",
      "[52]\ttraining-logloss:0.01937\ttesting-logloss:0.13700\n",
      "[53]\ttraining-logloss:0.01886\ttesting-logloss:0.13582\n",
      "[54]\ttraining-logloss:0.01833\ttesting-logloss:0.13635\n",
      "[55]\ttraining-logloss:0.01784\ttesting-logloss:0.13663\n",
      "[56]\ttraining-logloss:0.01741\ttesting-logloss:0.13718\n",
      "[57]\ttraining-logloss:0.01704\ttesting-logloss:0.13633\n",
      "[58]\ttraining-logloss:0.01662\ttesting-logloss:0.13663\n",
      "[59]\ttraining-logloss:0.01620\ttesting-logloss:0.13736\n",
      "[60]\ttraining-logloss:0.01574\ttesting-logloss:0.13757\n",
      "[61]\ttraining-logloss:0.01531\ttesting-logloss:0.13789\n",
      "[62]\ttraining-logloss:0.01494\ttesting-logloss:0.13804\n",
      "[63]\ttraining-logloss:0.01463\ttesting-logloss:0.13856\n",
      "[64]\ttraining-logloss:0.01432\ttesting-logloss:0.13893\n",
      "[65]\ttraining-logloss:0.01401\ttesting-logloss:0.13862\n",
      "[66]\ttraining-logloss:0.01378\ttesting-logloss:0.13775\n",
      "[67]\ttraining-logloss:0.01355\ttesting-logloss:0.13829\n",
      "[68]\ttraining-logloss:0.01333\ttesting-logloss:0.13805\n",
      "[69]\ttraining-logloss:0.01314\ttesting-logloss:0.13884\n",
      "[70]\ttraining-logloss:0.01292\ttesting-logloss:0.13864\n",
      "[71]\ttraining-logloss:0.01270\ttesting-logloss:0.13881\n",
      "[72]\ttraining-logloss:0.01255\ttesting-logloss:0.13949\n",
      "[73]\ttraining-logloss:0.01238\ttesting-logloss:0.14000\n",
      "[74]\ttraining-logloss:0.01214\ttesting-logloss:0.13964\n",
      "[75]\ttraining-logloss:0.01197\ttesting-logloss:0.13881\n",
      "[76]\ttraining-logloss:0.01175\ttesting-logloss:0.13931\n",
      "[77]\ttraining-logloss:0.01162\ttesting-logloss:0.13860\n",
      "[78]\ttraining-logloss:0.01147\ttesting-logloss:0.13798\n",
      "[79]\ttraining-logloss:0.01130\ttesting-logloss:0.13808\n"
     ]
    }
   ],
   "source": [
    "model = xgb.train(params=params, dtrain=xgb_train, num_boost_round=num_round, evals=watch_list)"
   ]
  },
  {
   "cell_type": "code",
   "execution_count": 8,
   "metadata": {},
   "outputs": [
    {
     "name": "stdout",
     "output_type": "stream",
     "text": [
      "[0]\ttraining-logloss:0.60594\ttesting-logloss:0.61639\n",
      "[1]\ttraining-logloss:0.53422\ttesting-logloss:0.55362\n",
      "[2]\ttraining-logloss:0.47394\ttesting-logloss:0.50049\n",
      "[3]\ttraining-logloss:0.42265\ttesting-logloss:0.45501\n",
      "[4]\ttraining-logloss:0.37862\ttesting-logloss:0.41682\n",
      "[5]\ttraining-logloss:0.33972\ttesting-logloss:0.38017\n",
      "[6]\ttraining-logloss:0.30625\ttesting-logloss:0.35091\n",
      "[7]\ttraining-logloss:0.27646\ttesting-logloss:0.32244\n",
      "[8]\ttraining-logloss:0.25069\ttesting-logloss:0.30262\n",
      "[9]\ttraining-logloss:0.22759\ttesting-logloss:0.28135\n",
      "[10]\ttraining-logloss:0.20748\ttesting-logloss:0.26679\n",
      "[11]\ttraining-logloss:0.18936\ttesting-logloss:0.25174\n",
      "[12]\ttraining-logloss:0.17325\ttesting-logloss:0.23866\n",
      "[13]\ttraining-logloss:0.15915\ttesting-logloss:0.22750\n",
      "[14]\ttraining-logloss:0.14593\ttesting-logloss:0.21555\n",
      "[15]\ttraining-logloss:0.13443\ttesting-logloss:0.20662\n",
      "[16]\ttraining-logloss:0.12374\ttesting-logloss:0.19843\n",
      "[17]\ttraining-logloss:0.11466\ttesting-logloss:0.19028\n",
      "[18]\ttraining-logloss:0.10652\ttesting-logloss:0.18507\n",
      "[19]\ttraining-logloss:0.09836\ttesting-logloss:0.17967\n",
      "[20]\ttraining-logloss:0.09106\ttesting-logloss:0.17429\n",
      "[21]\ttraining-logloss:0.08462\ttesting-logloss:0.16850\n",
      "[22]\ttraining-logloss:0.07871\ttesting-logloss:0.16309\n",
      "[23]\ttraining-logloss:0.07338\ttesting-logloss:0.15955\n",
      "[24]\ttraining-logloss:0.06828\ttesting-logloss:0.15611\n",
      "[25]\ttraining-logloss:0.06414\ttesting-logloss:0.15245\n",
      "[26]\ttraining-logloss:0.06026\ttesting-logloss:0.15099\n",
      "[27]\ttraining-logloss:0.05635\ttesting-logloss:0.14919\n",
      "[28]\ttraining-logloss:0.05283\ttesting-logloss:0.14780\n",
      "[29]\ttraining-logloss:0.04972\ttesting-logloss:0.14491\n",
      "[30]\ttraining-logloss:0.04681\ttesting-logloss:0.14415\n",
      "[31]\ttraining-logloss:0.04430\ttesting-logloss:0.14305\n",
      "[32]\ttraining-logloss:0.04195\ttesting-logloss:0.14129\n",
      "[33]\ttraining-logloss:0.03980\ttesting-logloss:0.13933\n",
      "[34]\ttraining-logloss:0.03791\ttesting-logloss:0.13816\n",
      "[35]\ttraining-logloss:0.03607\ttesting-logloss:0.13852\n",
      "[36]\ttraining-logloss:0.03436\ttesting-logloss:0.13853\n",
      "[37]\ttraining-logloss:0.03281\ttesting-logloss:0.13879\n",
      "[38]\ttraining-logloss:0.03148\ttesting-logloss:0.13719\n",
      "[39]\ttraining-logloss:0.03016\ttesting-logloss:0.13669\n",
      "[40]\ttraining-logloss:0.02893\ttesting-logloss:0.13615\n",
      "[41]\ttraining-logloss:0.02783\ttesting-logloss:0.13693\n",
      "[42]\ttraining-logloss:0.02679\ttesting-logloss:0.13758\n",
      "[43]\ttraining-logloss:0.02598\ttesting-logloss:0.13596\n",
      "[44]\ttraining-logloss:0.02515\ttesting-logloss:0.13626\n",
      "[45]\ttraining-logloss:0.02432\ttesting-logloss:0.13657\n",
      "[46]\ttraining-logloss:0.02340\ttesting-logloss:0.13659\n",
      "[47]\ttraining-logloss:0.02266\ttesting-logloss:0.13708\n",
      "[48]\ttraining-logloss:0.02194\ttesting-logloss:0.13726\n",
      "[49]\ttraining-logloss:0.02119\ttesting-logloss:0.13755\n",
      "[50]\ttraining-logloss:0.02051\ttesting-logloss:0.13792\n",
      "[51]\ttraining-logloss:0.01993\ttesting-logloss:0.13674\n",
      "[52]\ttraining-logloss:0.01937\ttesting-logloss:0.13700\n",
      "[53]\ttraining-logloss:0.01886\ttesting-logloss:0.13582\n",
      "[54]\ttraining-logloss:0.01833\ttesting-logloss:0.13635\n",
      "[55]\ttraining-logloss:0.01784\ttesting-logloss:0.13663\n",
      "[56]\ttraining-logloss:0.01741\ttesting-logloss:0.13718\n",
      "[57]\ttraining-logloss:0.01704\ttesting-logloss:0.13633\n",
      "[58]\ttraining-logloss:0.01662\ttesting-logloss:0.13663\n",
      "[59]\ttraining-logloss:0.01620\ttesting-logloss:0.13736\n",
      "[60]\ttraining-logloss:0.01574\ttesting-logloss:0.13757\n",
      "[61]\ttraining-logloss:0.01531\ttesting-logloss:0.13789\n",
      "[62]\ttraining-logloss:0.01494\ttesting-logloss:0.13804\n",
      "[63]\ttraining-logloss:0.01463\ttesting-logloss:0.13856\n",
      "[64]\ttraining-logloss:0.01432\ttesting-logloss:0.13893\n",
      "[65]\ttraining-logloss:0.01401\ttesting-logloss:0.13862\n",
      "[66]\ttraining-logloss:0.01378\ttesting-logloss:0.13775\n",
      "[67]\ttraining-logloss:0.01355\ttesting-logloss:0.13829\n",
      "[68]\ttraining-logloss:0.01333\ttesting-logloss:0.13805\n",
      "[69]\ttraining-logloss:0.01314\ttesting-logloss:0.13884\n",
      "[70]\ttraining-logloss:0.01292\ttesting-logloss:0.13864\n",
      "[71]\ttraining-logloss:0.01270\ttesting-logloss:0.13881\n",
      "[72]\ttraining-logloss:0.01255\ttesting-logloss:0.13949\n",
      "[73]\ttraining-logloss:0.01238\ttesting-logloss:0.14000\n",
      "[74]\ttraining-logloss:0.01214\ttesting-logloss:0.13964\n",
      "[75]\ttraining-logloss:0.01197\ttesting-logloss:0.13881\n",
      "[76]\ttraining-logloss:0.01175\ttesting-logloss:0.13931\n",
      "[77]\ttraining-logloss:0.01162\ttesting-logloss:0.13860\n",
      "[78]\ttraining-logloss:0.01147\ttesting-logloss:0.13798\n",
      "[79]\ttraining-logloss:0.01130\ttesting-logloss:0.13808\n"
     ]
    }
   ],
   "source": [
    "# 保存评估结果\n",
    "evals_result = {}\n",
    "model = xgb.train(params=params, dtrain=xgb_train, num_boost_round=num_round, evals=watch_list, evals_result=evals_result)"
   ]
  },
  {
   "cell_type": "code",
   "execution_count": 9,
   "metadata": {},
   "outputs": [
    {
     "name": "stdout",
     "output_type": "stream",
     "text": [
      "{'training': OrderedDict([('logloss', [0.605935958322588, 0.5342157895748432, 0.4739384930212419, 0.42265164937291827, 0.37861661865161017, 0.3397195373262678, 0.3062464347252479, 0.2764594297487657, 0.2506903997161886, 0.2275873405265284, 0.20748347977360526, 0.18936423043628314, 0.17325016004698618, 0.15915230502794078, 0.14592915919128355, 0.13443403604266407, 0.12374464859674265, 0.11466306484007574, 0.10652392390337619, 0.09836366433691192, 0.09106403808672349, 0.08461510216469294, 0.07871330427926976, 0.07338011152632944, 0.06828002264047717, 0.06414230740987338, 0.06026462849516135, 0.05634501818772201, 0.05283418204840068, 0.04972030706703663, 0.04681452486131873, 0.04430488567021522, 0.0419534796910299, 0.03979800549837259, 0.037914514242784, 0.03606641457549163, 0.03436067118872325, 0.03280692179943179, 0.03147625419833176, 0.03016150916752579, 0.02893287350147308, 0.02783186084457806, 0.02678891582885286, 0.02597774205381399, 0.02515399700214902, 0.02431924116316733, 0.02340259959327651, 0.02265646231391437, 0.02194289711539398, 0.02119094635984236, 0.02050630710507324, 0.01992576798055689, 0.01937050033094628, 0.01885740343829269, 0.01833056994191893, 0.01783688501813091, 0.01741464758486292, 0.01703523479678392, 0.01661640254391746, 0.01620068696460554, 0.01574309207959571, 0.01530673072652912, 0.01494483161553904, 0.01462565566372167, 0.0143185275898489, 0.01401179255764154, 0.01378416544348411, 0.01354794851350751, 0.01333078700168938, 0.01314394510489285, 0.01292368778779816, 0.01270252520085446, 0.01255433167801699, 0.01238013767396806, 0.01213757450139703, 0.01197204352279736, 0.01175430537390799, 0.01162204749390974, 0.01146998659139601, 0.01129987605612029])]), 'testing': OrderedDict([('logloss', [0.6163886466570068, 0.5536160076919355, 0.5004878525148359, 0.4550112326417053, 0.41681883444911555, 0.38016795040222634, 0.3509092448573363, 0.3224444506984008, 0.3026237634190342, 0.28135287343410026, 0.26679013120500666, 0.251737807272819, 0.2386649929379162, 0.22750307645714074, 0.21555240007868984, 0.20662312850094677, 0.19842755657277608, 0.19027905682461305, 0.18507076976330658, 0.17967011570407634, 0.17428524419665337, 0.16849819093681218, 0.1630932955365432, 0.1595510428019783, 0.15610709296245323, 0.15245271487194195, 0.15099352555708928, 0.14919256317641652, 0.14780175707123258, 0.1449095031017797, 0.14415369555354118, 0.14305267840819924, 0.1412884169503262, 0.13932738851821214, 0.13816025583563665, 0.1385168663732577, 0.13853061596225752, 0.1387923398921103, 0.13718804860030087, 0.13668616678108247, 0.1361546323618345, 0.13692975772152605, 0.13757917870718397, 0.13596058762714006, 0.13625879621688733, 0.13656565266367243, 0.13659100250030556, 0.13708191992420898, 0.1372618022530029, 0.13755236896931342, 0.13792269932628984, 0.1367414652231035, 0.13699547839024218, 0.1358181266400048, 0.13634749164543392, 0.13663287969355128, 0.13717980526812507, 0.13632647279780685, 0.1366267723211071, 0.137358168671071, 0.13757129396891973, 0.13789375526462927, 0.13803841782072068, 0.1385640357478048, 0.13893420855808808, 0.1386208220286981, 0.1377508348536171, 0.13829235412515373, 0.13804899043967261, 0.13884151059104816, 0.13864190733415613, 0.13881191319536842, 0.1394943280631611, 0.13999941880945443, 0.13964016917427152, 0.13881380850726968, 0.1393134654611921, 0.13859976077423708, 0.13798275000820132, 0.13808031428989284])])}\n"
     ]
    }
   ],
   "source": [
    "print(evals_result)"
   ]
  },
  {
   "cell_type": "code",
   "execution_count": 10,
   "metadata": {},
   "outputs": [
    {
     "name": "stdout",
     "output_type": "stream",
     "text": [
      "[0.605935958322588, 0.5342157895748432, 0.4739384930212419, 0.42265164937291827, 0.37861661865161017, 0.3397195373262678, 0.3062464347252479, 0.2764594297487657, 0.2506903997161886, 0.2275873405265284, 0.20748347977360526, 0.18936423043628314, 0.17325016004698618, 0.15915230502794078, 0.14592915919128355, 0.13443403604266407, 0.12374464859674265, 0.11466306484007574, 0.10652392390337619, 0.09836366433691192, 0.09106403808672349, 0.08461510216469294, 0.07871330427926976, 0.07338011152632944, 0.06828002264047717, 0.06414230740987338, 0.06026462849516135, 0.05634501818772201, 0.05283418204840068, 0.04972030706703663, 0.04681452486131873, 0.04430488567021522, 0.0419534796910299, 0.03979800549837259, 0.037914514242784, 0.03606641457549163, 0.03436067118872325, 0.03280692179943179, 0.03147625419833176, 0.03016150916752579, 0.02893287350147308, 0.02783186084457806, 0.02678891582885286, 0.02597774205381399, 0.02515399700214902, 0.02431924116316733, 0.02340259959327651, 0.02265646231391437, 0.02194289711539398, 0.02119094635984236, 0.02050630710507324, 0.01992576798055689, 0.01937050033094628, 0.01885740343829269, 0.01833056994191893, 0.01783688501813091, 0.01741464758486292, 0.01703523479678392, 0.01661640254391746, 0.01620068696460554, 0.01574309207959571, 0.01530673072652912, 0.01494483161553904, 0.01462565566372167, 0.0143185275898489, 0.01401179255764154, 0.01378416544348411, 0.01354794851350751, 0.01333078700168938, 0.01314394510489285, 0.01292368778779816, 0.01270252520085446, 0.01255433167801699, 0.01238013767396806, 0.01213757450139703, 0.01197204352279736, 0.01175430537390799, 0.01162204749390974, 0.01146998659139601, 0.01129987605612029]\n"
     ]
    }
   ],
   "source": [
    "print(evals_result[\"training\"][\"logloss\"])"
   ]
  },
  {
   "cell_type": "code",
   "execution_count": null,
   "metadata": {},
   "outputs": [],
   "source": []
  }
 ],
 "metadata": {
  "kernelspec": {
   "display_name": "Python 3",
   "language": "python",
   "name": "python3"
  },
  "language_info": {
   "codemirror_mode": {
    "name": "ipython",
    "version": 3
   },
   "file_extension": ".py",
   "mimetype": "text/x-python",
   "name": "python",
   "nbconvert_exporter": "python",
   "pygments_lexer": "ipython3",
   "version": "3.8.3"
  }
 },
 "nbformat": 4,
 "nbformat_minor": 4
}
