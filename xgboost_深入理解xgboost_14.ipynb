{
 "cells": [
  {
   "cell_type": "markdown",
   "metadata": {},
   "source": [
    "## 深入理解xgboost十四"
   ]
  },
  {
   "cell_type": "markdown",
   "metadata": {},
   "source": [
    "### 基于特征重要性的特征选择"
   ]
  },
  {
   "cell_type": "code",
   "execution_count": 1,
   "metadata": {},
   "outputs": [],
   "source": [
    "import xgboost as xgb\n",
    "\n",
    "import numpy as np\n",
    "import pandas as pd\n",
    "\n",
    "from sklearn import datasets\n",
    "from sklearn.model_selection import train_test_split\n",
    "from sklearn.metrics import roc_auc_score\n",
    "from sklearn.feature_selection import SelectFromModel"
   ]
  },
  {
   "cell_type": "code",
   "execution_count": 2,
   "metadata": {},
   "outputs": [],
   "source": [
    "cancer = datasets.load_breast_cancer()\n",
    "X = cancer.data\n",
    "y = cancer.target"
   ]
  },
  {
   "cell_type": "code",
   "execution_count": 3,
   "metadata": {},
   "outputs": [],
   "source": [
    "X_train, X_test, y_train, y_test = train_test_split(X, y, test_size=0.1, random_state=1)"
   ]
  },
  {
   "cell_type": "code",
   "execution_count": 4,
   "metadata": {},
   "outputs": [
    {
     "data": {
      "text/html": [
       "<style>#sk-container-id-1 {color: black;background-color: white;}#sk-container-id-1 pre{padding: 0;}#sk-container-id-1 div.sk-toggleable {background-color: white;}#sk-container-id-1 label.sk-toggleable__label {cursor: pointer;display: block;width: 100%;margin-bottom: 0;padding: 0.3em;box-sizing: border-box;text-align: center;}#sk-container-id-1 label.sk-toggleable__label-arrow:before {content: \"▸\";float: left;margin-right: 0.25em;color: #696969;}#sk-container-id-1 label.sk-toggleable__label-arrow:hover:before {color: black;}#sk-container-id-1 div.sk-estimator:hover label.sk-toggleable__label-arrow:before {color: black;}#sk-container-id-1 div.sk-toggleable__content {max-height: 0;max-width: 0;overflow: hidden;text-align: left;background-color: #f0f8ff;}#sk-container-id-1 div.sk-toggleable__content pre {margin: 0.2em;color: black;border-radius: 0.25em;background-color: #f0f8ff;}#sk-container-id-1 input.sk-toggleable__control:checked~div.sk-toggleable__content {max-height: 200px;max-width: 100%;overflow: auto;}#sk-container-id-1 input.sk-toggleable__control:checked~label.sk-toggleable__label-arrow:before {content: \"▾\";}#sk-container-id-1 div.sk-estimator input.sk-toggleable__control:checked~label.sk-toggleable__label {background-color: #d4ebff;}#sk-container-id-1 div.sk-label input.sk-toggleable__control:checked~label.sk-toggleable__label {background-color: #d4ebff;}#sk-container-id-1 input.sk-hidden--visually {border: 0;clip: rect(1px 1px 1px 1px);clip: rect(1px, 1px, 1px, 1px);height: 1px;margin: -1px;overflow: hidden;padding: 0;position: absolute;width: 1px;}#sk-container-id-1 div.sk-estimator {font-family: monospace;background-color: #f0f8ff;border: 1px dotted black;border-radius: 0.25em;box-sizing: border-box;margin-bottom: 0.5em;}#sk-container-id-1 div.sk-estimator:hover {background-color: #d4ebff;}#sk-container-id-1 div.sk-parallel-item::after {content: \"\";width: 100%;border-bottom: 1px solid gray;flex-grow: 1;}#sk-container-id-1 div.sk-label:hover label.sk-toggleable__label {background-color: #d4ebff;}#sk-container-id-1 div.sk-serial::before {content: \"\";position: absolute;border-left: 1px solid gray;box-sizing: border-box;top: 0;bottom: 0;left: 50%;z-index: 0;}#sk-container-id-1 div.sk-serial {display: flex;flex-direction: column;align-items: center;background-color: white;padding-right: 0.2em;padding-left: 0.2em;position: relative;}#sk-container-id-1 div.sk-item {position: relative;z-index: 1;}#sk-container-id-1 div.sk-parallel {display: flex;align-items: stretch;justify-content: center;background-color: white;position: relative;}#sk-container-id-1 div.sk-item::before, #sk-container-id-1 div.sk-parallel-item::before {content: \"\";position: absolute;border-left: 1px solid gray;box-sizing: border-box;top: 0;bottom: 0;left: 50%;z-index: -1;}#sk-container-id-1 div.sk-parallel-item {display: flex;flex-direction: column;z-index: 1;position: relative;background-color: white;}#sk-container-id-1 div.sk-parallel-item:first-child::after {align-self: flex-end;width: 50%;}#sk-container-id-1 div.sk-parallel-item:last-child::after {align-self: flex-start;width: 50%;}#sk-container-id-1 div.sk-parallel-item:only-child::after {width: 0;}#sk-container-id-1 div.sk-dashed-wrapped {border: 1px dashed gray;margin: 0 0.4em 0.5em 0.4em;box-sizing: border-box;padding-bottom: 0.4em;background-color: white;}#sk-container-id-1 div.sk-label label {font-family: monospace;font-weight: bold;display: inline-block;line-height: 1.2em;}#sk-container-id-1 div.sk-label-container {text-align: center;}#sk-container-id-1 div.sk-container {/* jupyter's `normalize.less` sets `[hidden] { display: none; }` but bootstrap.min.css set `[hidden] { display: none !important; }` so we also need the `!important` here to be able to override the default hidden behavior on the sphinx rendered scikit-learn.org. See: https://github.com/scikit-learn/scikit-learn/issues/21755 */display: inline-block !important;position: relative;}#sk-container-id-1 div.sk-text-repr-fallback {display: none;}</style><div id=\"sk-container-id-1\" class=\"sk-top-container\"><div class=\"sk-text-repr-fallback\"><pre>XGBClassifier(base_score=0.5, booster=&#x27;gbtree&#x27;, callbacks=None,\n",
       "              colsample_bylevel=1, colsample_bynode=1, colsample_bytree=1,\n",
       "              early_stopping_rounds=None, enable_categorical=False,\n",
       "              eval_metric=None, gamma=0, gpu_id=-1, grow_policy=&#x27;depthwise&#x27;,\n",
       "              importance_type=None, interaction_constraints=&#x27;&#x27;,\n",
       "              learning_rate=0.05, max_bin=256, max_cat_to_onehot=4,\n",
       "              max_delta_step=0, max_depth=6, max_leaves=0, min_child_weight=1,\n",
       "              missing=nan, monotone_constraints=&#x27;()&#x27;, n_estimators=100,\n",
       "              n_jobs=0, num_parallel_tree=1, predictor=&#x27;auto&#x27;, random_state=0,\n",
       "              reg_alpha=0, reg_lambda=1, ...)</pre><b>In a Jupyter environment, please rerun this cell to show the HTML representation or trust the notebook. <br />On GitHub, the HTML representation is unable to render, please try loading this page with nbviewer.org.</b></div><div class=\"sk-container\" hidden><div class=\"sk-item\"><div class=\"sk-estimator sk-toggleable\"><input class=\"sk-toggleable__control sk-hidden--visually\" id=\"sk-estimator-id-1\" type=\"checkbox\" checked><label for=\"sk-estimator-id-1\" class=\"sk-toggleable__label sk-toggleable__label-arrow\">XGBClassifier</label><div class=\"sk-toggleable__content\"><pre>XGBClassifier(base_score=0.5, booster=&#x27;gbtree&#x27;, callbacks=None,\n",
       "              colsample_bylevel=1, colsample_bynode=1, colsample_bytree=1,\n",
       "              early_stopping_rounds=None, enable_categorical=False,\n",
       "              eval_metric=None, gamma=0, gpu_id=-1, grow_policy=&#x27;depthwise&#x27;,\n",
       "              importance_type=None, interaction_constraints=&#x27;&#x27;,\n",
       "              learning_rate=0.05, max_bin=256, max_cat_to_onehot=4,\n",
       "              max_delta_step=0, max_depth=6, max_leaves=0, min_child_weight=1,\n",
       "              missing=nan, monotone_constraints=&#x27;()&#x27;, n_estimators=100,\n",
       "              n_jobs=0, num_parallel_tree=1, predictor=&#x27;auto&#x27;, random_state=0,\n",
       "              reg_alpha=0, reg_lambda=1, ...)</pre></div></div></div></div></div>"
      ],
      "text/plain": [
       "XGBClassifier(base_score=0.5, booster='gbtree', callbacks=None,\n",
       "              colsample_bylevel=1, colsample_bynode=1, colsample_bytree=1,\n",
       "              early_stopping_rounds=None, enable_categorical=False,\n",
       "              eval_metric=None, gamma=0, gpu_id=-1, grow_policy='depthwise',\n",
       "              importance_type=None, interaction_constraints='',\n",
       "              learning_rate=0.05, max_bin=256, max_cat_to_onehot=4,\n",
       "              max_delta_step=0, max_depth=6, max_leaves=0, min_child_weight=1,\n",
       "              missing=nan, monotone_constraints='()', n_estimators=100,\n",
       "              n_jobs=0, num_parallel_tree=1, predictor='auto', random_state=0,\n",
       "              reg_alpha=0, reg_lambda=1, ...)"
      ]
     },
     "execution_count": 4,
     "metadata": {},
     "output_type": "execute_result"
    }
   ],
   "source": [
    "model = xgb.XGBClassifier(max_depth=6, learning_rate=0.05, n_estimators=100, objective=\"binary:logistic\", booster=\"gbtree\")\n",
    "model.fit(X=X_train, y=y_train)"
   ]
  },
  {
   "cell_type": "code",
   "execution_count": 5,
   "metadata": {},
   "outputs": [
    {
     "name": "stdout",
     "output_type": "stream",
     "text": [
      "AUC 得分: 0.98\n"
     ]
    }
   ],
   "source": [
    "# 对测试集进行预测，并计算AUC\n",
    "y_pred = model.predict(X=X_test)\n",
    "auc = roc_auc_score(y_true=y_test, y_score=y_pred)\n",
    "print(\"AUC 得分: %.2f\" % (auc))"
   ]
  },
  {
   "cell_type": "code",
   "execution_count": 6,
   "metadata": {},
   "outputs": [
    {
     "data": {
      "text/plain": [
       "array([0.00920666, 0.02353375, 0.00494846, 0.01797036, 0.01272686,\n",
       "       0.0105133 , 0.01288558, 0.24048333, 0.00342244, 0.00464765,\n",
       "       0.01402702, 0.0038198 , 0.00987051, 0.01139465, 0.00236183,\n",
       "       0.00699555, 0.007381  , 0.00685163, 0.00614328, 0.00478291,\n",
       "       0.01611804, 0.01893223, 0.15763223, 0.0549845 , 0.00794952,\n",
       "       0.00309393, 0.02123242, 0.28822008, 0.00493709, 0.01293348],\n",
       "      dtype=float32)"
      ]
     },
     "execution_count": 6,
     "metadata": {},
     "output_type": "execute_result"
    }
   ],
   "source": [
    "# 获取特征重要性\n",
    "importance = model.feature_importances_\n",
    "importance"
   ]
  },
  {
   "cell_type": "code",
   "execution_count": 7,
   "metadata": {},
   "outputs": [
    {
     "data": {
      "text/plain": [
       "[0.0023618278,\n",
       " 0.0030939253,\n",
       " 0.0034224368,\n",
       " 0.003819798,\n",
       " 0.004647645,\n",
       " 0.004782911,\n",
       " 0.0049370904,\n",
       " 0.0049484647,\n",
       " 0.0061432756,\n",
       " 0.0068516335,\n",
       " 0.006995549,\n",
       " 0.0073810015,\n",
       " 0.007949515,\n",
       " 0.009206663,\n",
       " 0.009870507,\n",
       " 0.010513297,\n",
       " 0.011394647,\n",
       " 0.012726858,\n",
       " 0.012885581,\n",
       " 0.012933484,\n",
       " 0.014027023,\n",
       " 0.016118037,\n",
       " 0.017970355,\n",
       " 0.01893223,\n",
       " 0.021232419,\n",
       " 0.023533752,\n",
       " 0.0549845,\n",
       " 0.15763223,\n",
       " 0.24048333,\n",
       " 0.28822008]"
      ]
     },
     "execution_count": 7,
     "metadata": {},
     "output_type": "execute_result"
    }
   ],
   "source": [
    "# 对特征重要性去重后作为候选阈值\n",
    "thresholds = []\n",
    "for imp in importance:\n",
    "    if imp not in thresholds:\n",
    "        thresholds.append(imp)\n",
    "        \n",
    "# 候选阈值排序\n",
    "thresholds = sorted(thresholds)\n",
    "thresholds"
   ]
  },
  {
   "cell_type": "code",
   "execution_count": 8,
   "metadata": {},
   "outputs": [
    {
     "name": "stdout",
     "output_type": "stream",
     "text": [
      "[ 0  1  2  3  4  5  6  7  8  9 10 11 12 13 14 15 16 17 18 19 20 21 22 23\n",
      " 24 25 26 27 28 29]\n",
      "阈值: 0.002, 特征数量: 30, AUC得分: 0.98\n",
      "[ 0  1  2  3  4  5  6  7  8  9 10 11 12 13 15 16 17 18 19 20 21 22 23 24\n",
      " 25 26 27 28 29]\n",
      "阈值: 0.003, 特征数量: 29, AUC得分: 0.98\n",
      "[ 0  1  2  3  4  5  6  7  8  9 10 11 12 13 15 16 17 18 19 20 21 22 23 24\n",
      " 26 27 28 29]\n",
      "阈值: 0.003, 特征数量: 28, AUC得分: 0.98\n",
      "[ 0  1  2  3  4  5  6  7  9 10 11 12 13 15 16 17 18 19 20 21 22 23 24 26\n",
      " 27 28 29]\n",
      "阈值: 0.004, 特征数量: 27, AUC得分: 0.98\n",
      "[ 0  1  2  3  4  5  6  7  9 10 12 13 15 16 17 18 19 20 21 22 23 24 26 27\n",
      " 28 29]\n",
      "阈值: 0.005, 特征数量: 26, AUC得分: 0.98\n",
      "[ 0  1  2  3  4  5  6  7 10 12 13 15 16 17 18 19 20 21 22 23 24 26 27 28\n",
      " 29]\n",
      "阈值: 0.005, 特征数量: 25, AUC得分: 0.98\n",
      "[ 0  1  2  3  4  5  6  7 10 12 13 15 16 17 18 20 21 22 23 24 26 27 28 29]\n",
      "阈值: 0.005, 特征数量: 24, AUC得分: 0.98\n",
      "[ 0  1  2  3  4  5  6  7 10 12 13 15 16 17 18 20 21 22 23 24 26 27 29]\n",
      "阈值: 0.005, 特征数量: 23, AUC得分: 0.98\n",
      "[ 0  1  3  4  5  6  7 10 12 13 15 16 17 18 20 21 22 23 24 26 27 29]\n",
      "阈值: 0.006, 特征数量: 22, AUC得分: 0.98\n",
      "[ 0  1  3  4  5  6  7 10 12 13 15 16 17 20 21 22 23 24 26 27 29]\n",
      "阈值: 0.007, 特征数量: 21, AUC得分: 0.98\n",
      "[ 0  1  3  4  5  6  7 10 12 13 15 16 20 21 22 23 24 26 27 29]\n",
      "阈值: 0.007, 特征数量: 20, AUC得分: 0.98\n",
      "[ 0  1  3  4  5  6  7 10 12 13 16 20 21 22 23 24 26 27 29]\n",
      "阈值: 0.007, 特征数量: 19, AUC得分: 0.98\n",
      "[ 0  1  3  4  5  6  7 10 12 13 20 21 22 23 24 26 27 29]\n",
      "阈值: 0.008, 特征数量: 18, AUC得分: 0.98\n",
      "[ 0  1  3  4  5  6  7 10 12 13 20 21 22 23 26 27 29]\n",
      "阈值: 0.009, 特征数量: 17, AUC得分: 0.98\n",
      "[ 1  3  4  5  6  7 10 12 13 20 21 22 23 26 27 29]\n",
      "阈值: 0.010, 特征数量: 16, AUC得分: 0.98\n",
      "[ 1  3  4  5  6  7 10 13 20 21 22 23 26 27 29]\n",
      "阈值: 0.011, 特征数量: 15, AUC得分: 0.98\n",
      "[ 1  3  4  6  7 10 13 20 21 22 23 26 27 29]\n",
      "阈值: 0.011, 特征数量: 14, AUC得分: 0.98\n",
      "[ 1  3  4  6  7 10 20 21 22 23 26 27 29]\n",
      "阈值: 0.013, 特征数量: 13, AUC得分: 0.98\n",
      "[ 1  3  6  7 10 20 21 22 23 26 27 29]\n",
      "阈值: 0.013, 特征数量: 12, AUC得分: 0.98\n",
      "[ 1  3  7 10 20 21 22 23 26 27 29]\n",
      "阈值: 0.013, 特征数量: 11, AUC得分: 0.98\n",
      "[ 1  3  7 10 20 21 22 23 26 27]\n",
      "阈值: 0.014, 特征数量: 10, AUC得分: 0.98\n",
      "[ 1  3  7 20 21 22 23 26 27]\n",
      "阈值: 0.016, 特征数量: 9, AUC得分: 0.98\n",
      "[ 1  3  7 21 22 23 26 27]\n",
      "阈值: 0.018, 特征数量: 8, AUC得分: 0.96\n",
      "[ 1  7 21 22 23 26 27]\n",
      "阈值: 0.019, 特征数量: 7, AUC得分: 0.96\n",
      "[ 1  7 22 23 26 27]\n",
      "阈值: 0.021, 特征数量: 6, AUC得分: 0.96\n",
      "[ 1  7 22 23 27]\n",
      "阈值: 0.024, 特征数量: 5, AUC得分: 0.95\n",
      "[ 7 22 23 27]\n",
      "阈值: 0.055, 特征数量: 4, AUC得分: 0.96\n",
      "[ 7 22 27]\n",
      "阈值: 0.158, 特征数量: 3, AUC得分: 0.96\n",
      "[ 7 27]\n",
      "阈值: 0.240, 特征数量: 2, AUC得分: 0.85\n",
      "[27]\n",
      "阈值: 0.288, 特征数量: 1, AUC得分: 0.78\n"
     ]
    }
   ],
   "source": [
    "# 遍历候选阈值\n",
    "for threshold in thresholds:\n",
    "    # 通过threshold进行特征选择\n",
    "    selection = SelectFromModel(model, threshold=threshold, prefit=True)\n",
    "    selection_X_train = selection.transform(X_train)\n",
    "    print(selection.get_support(True))\n",
    "    \n",
    "    # 训练模型\n",
    "    selection_model = xgb.XGBClassifier(max_depth=5, learning_rate=0.05, n_estimators=100, objective=\"binary:logistic\", booster=\"gbtree\")\n",
    "    selection_model.fit(selection_X_train, y_train)\n",
    "    \n",
    "    # 评估模型\n",
    "    selection_X_test = selection.transform(X_test)\n",
    "    y_pred = selection_model.predict(selection_X_test)\n",
    "    auc = roc_auc_score(y_true=y_test, y_score=y_pred)\n",
    "    print(\"阈值: %.3f, 特征数量: %d, AUC得分: %.2f\" % (threshold, selection_X_train.shape[1], auc))"
   ]
  },
  {
   "cell_type": "code",
   "execution_count": null,
   "metadata": {},
   "outputs": [],
   "source": []
  }
 ],
 "metadata": {
  "kernelspec": {
   "display_name": "Python 3",
   "language": "python",
   "name": "python3"
  },
  "language_info": {
   "codemirror_mode": {
    "name": "ipython",
    "version": 3
   },
   "file_extension": ".py",
   "mimetype": "text/x-python",
   "name": "python",
   "nbconvert_exporter": "python",
   "pygments_lexer": "ipython3",
   "version": "3.8.3"
  }
 },
 "nbformat": 4,
 "nbformat_minor": 4
}
