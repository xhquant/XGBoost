{
 "cells": [
  {
   "cell_type": "markdown",
   "metadata": {},
   "source": [
    "## 深入理解xgboost十"
   ]
  },
  {
   "cell_type": "markdown",
   "metadata": {},
   "source": [
    "### 基于历史预测值继续训练"
   ]
  },
  {
   "cell_type": "code",
   "execution_count": 1,
   "metadata": {},
   "outputs": [],
   "source": [
    "import numpy as np\n",
    "from sklearn.datasets import load_breast_cancer\n",
    "from sklearn.model_selection import train_test_split\n",
    "\n",
    "import xgboost as xgb"
   ]
  },
  {
   "cell_type": "code",
   "execution_count": 2,
   "metadata": {},
   "outputs": [],
   "source": [
    "# 加载数据集\n",
    "cancer = load_breast_cancer()\n",
    "X = cancer.data\n",
    "y = cancer.target"
   ]
  },
  {
   "cell_type": "code",
   "execution_count": 3,
   "metadata": {},
   "outputs": [],
   "source": [
    "X_train, X_test, y_train, y_test = train_test_split(X, y, test_size=0.2, random_state=1)"
   ]
  },
  {
   "cell_type": "code",
   "execution_count": 4,
   "metadata": {},
   "outputs": [],
   "source": [
    "xgb_train = xgb.DMatrix(X_train, label=y_train)\n",
    "xgb_test = xgb.DMatrix(X_test, label=y_test)"
   ]
  },
  {
   "cell_type": "code",
   "execution_count": 5,
   "metadata": {},
   "outputs": [],
   "source": [
    "params = {\n",
    "    \"objective\": \"binary:logistic\",\n",
    "    \"booster\": \"gbtree\",\n",
    "    \"eta\": 0.05,\n",
    "    \"max_depth\": 6\n",
    "}\n",
    "num_round = 60\n",
    "watch_list = [(xgb_train, \"training\"), (xgb_test, \"testing\")]"
   ]
  },
  {
   "cell_type": "code",
   "execution_count": 6,
   "metadata": {},
   "outputs": [
    {
     "name": "stdout",
     "output_type": "stream",
     "text": [
      "[0]\ttraining-logloss:0.64845\ttesting-logloss:0.65376\n",
      "[1]\ttraining-logloss:0.60802\ttesting-logloss:0.61785\n",
      "[2]\ttraining-logloss:0.57111\ttesting-logloss:0.58557\n",
      "[3]\ttraining-logloss:0.53729\ttesting-logloss:0.55530\n",
      "[4]\ttraining-logloss:0.50619\ttesting-logloss:0.52757\n",
      "[5]\ttraining-logloss:0.47751\ttesting-logloss:0.50274\n",
      "[6]\ttraining-logloss:0.45100\ttesting-logloss:0.47952\n",
      "[7]\ttraining-logloss:0.42644\ttesting-logloss:0.45837\n",
      "[8]\ttraining-logloss:0.40363\ttesting-logloss:0.43853\n",
      "[9]\ttraining-logloss:0.38283\ttesting-logloss:0.42101\n",
      "[10]\ttraining-logloss:0.36302\ttesting-logloss:0.40390\n",
      "[11]\ttraining-logloss:0.34478\ttesting-logloss:0.38779\n",
      "[12]\ttraining-logloss:0.32709\ttesting-logloss:0.37103\n",
      "[13]\ttraining-logloss:0.31055\ttesting-logloss:0.35520\n",
      "[14]\ttraining-logloss:0.29524\ttesting-logloss:0.34180\n",
      "[15]\ttraining-logloss:0.28069\ttesting-logloss:0.32786\n",
      "[16]\ttraining-logloss:0.26721\ttesting-logloss:0.31616\n",
      "[17]\ttraining-logloss:0.25441\ttesting-logloss:0.30479\n",
      "[18]\ttraining-logloss:0.24254\ttesting-logloss:0.29556\n",
      "[19]\ttraining-logloss:0.23136\ttesting-logloss:0.28599\n",
      "[20]\ttraining-logloss:0.22106\ttesting-logloss:0.27706\n",
      "[21]\ttraining-logloss:0.21110\ttesting-logloss:0.26888\n",
      "[22]\ttraining-logloss:0.20184\ttesting-logloss:0.26196\n",
      "[23]\ttraining-logloss:0.19296\ttesting-logloss:0.25488\n",
      "[24]\ttraining-logloss:0.18472\ttesting-logloss:0.24887\n",
      "[25]\ttraining-logloss:0.17671\ttesting-logloss:0.24215\n",
      "[26]\ttraining-logloss:0.16935\ttesting-logloss:0.23573\n",
      "[27]\ttraining-logloss:0.16223\ttesting-logloss:0.23020\n",
      "[28]\ttraining-logloss:0.15560\ttesting-logloss:0.22567\n",
      "[29]\ttraining-logloss:0.14915\ttesting-logloss:0.22012\n",
      "[30]\ttraining-logloss:0.14293\ttesting-logloss:0.21442\n",
      "[31]\ttraining-logloss:0.13723\ttesting-logloss:0.21068\n",
      "[32]\ttraining-logloss:0.13180\ttesting-logloss:0.20655\n",
      "[33]\ttraining-logloss:0.12662\ttesting-logloss:0.20281\n",
      "[34]\ttraining-logloss:0.12168\ttesting-logloss:0.19858\n",
      "[35]\ttraining-logloss:0.11708\ttesting-logloss:0.19541\n",
      "[36]\ttraining-logloss:0.11267\ttesting-logloss:0.19275\n",
      "[37]\ttraining-logloss:0.10839\ttesting-logloss:0.18887\n",
      "[38]\ttraining-logloss:0.10422\ttesting-logloss:0.18599\n",
      "[39]\ttraining-logloss:0.10036\ttesting-logloss:0.18281\n",
      "[40]\ttraining-logloss:0.09658\ttesting-logloss:0.18041\n",
      "[41]\ttraining-logloss:0.09304\ttesting-logloss:0.17723\n",
      "[42]\ttraining-logloss:0.08985\ttesting-logloss:0.17443\n",
      "[43]\ttraining-logloss:0.08658\ttesting-logloss:0.17272\n",
      "[44]\ttraining-logloss:0.08331\ttesting-logloss:0.17038\n",
      "[45]\ttraining-logloss:0.08022\ttesting-logloss:0.16821\n",
      "[46]\ttraining-logloss:0.07743\ttesting-logloss:0.16582\n",
      "[47]\ttraining-logloss:0.07471\ttesting-logloss:0.16342\n",
      "[48]\ttraining-logloss:0.07217\ttesting-logloss:0.16173\n",
      "[49]\ttraining-logloss:0.06965\ttesting-logloss:0.16005\n",
      "[50]\ttraining-logloss:0.06724\ttesting-logloss:0.15821\n",
      "[51]\ttraining-logloss:0.06518\ttesting-logloss:0.15635\n",
      "[52]\ttraining-logloss:0.06298\ttesting-logloss:0.15503\n",
      "[53]\ttraining-logloss:0.06097\ttesting-logloss:0.15378\n",
      "[54]\ttraining-logloss:0.05896\ttesting-logloss:0.15265\n",
      "[55]\ttraining-logloss:0.05729\ttesting-logloss:0.15125\n",
      "[56]\ttraining-logloss:0.05546\ttesting-logloss:0.15055\n",
      "[57]\ttraining-logloss:0.05384\ttesting-logloss:0.15010\n",
      "[58]\ttraining-logloss:0.05218\ttesting-logloss:0.14954\n",
      "[59]\ttraining-logloss:0.05072\ttesting-logloss:0.14848\n"
     ]
    }
   ],
   "source": [
    "model = xgb.train(params=params, dtrain=xgb_train, num_boost_round=num_round, evals=watch_list)"
   ]
  },
  {
   "cell_type": "code",
   "execution_count": 7,
   "metadata": {},
   "outputs": [],
   "source": [
    "pred_train = model.predict(xgb_train, output_margin=True)\n",
    "pred_test = model.predict(xgb_test, output_margin=True)"
   ]
  },
  {
   "cell_type": "code",
   "execution_count": 8,
   "metadata": {},
   "outputs": [],
   "source": [
    "# 设置预测值为初始值，这里设置的初始值需要为未转化之前的值。\n",
    "xgb_train.set_base_margin(pred_train)\n",
    "xgb_test.set_base_margin(pred_test)"
   ]
  },
  {
   "cell_type": "code",
   "execution_count": 9,
   "metadata": {},
   "outputs": [
    {
     "name": "stdout",
     "output_type": "stream",
     "text": [
      "[0]\ttraining-logloss:0.04919\ttesting-logloss:0.14802\n",
      "[1]\ttraining-logloss:0.04787\ttesting-logloss:0.14712\n",
      "[2]\ttraining-logloss:0.04650\ttesting-logloss:0.14574\n",
      "[3]\ttraining-logloss:0.04518\ttesting-logloss:0.14551\n",
      "[4]\ttraining-logloss:0.04400\ttesting-logloss:0.14524\n",
      "[5]\ttraining-logloss:0.04282\ttesting-logloss:0.14432\n",
      "[6]\ttraining-logloss:0.04172\ttesting-logloss:0.14330\n",
      "[7]\ttraining-logloss:0.04062\ttesting-logloss:0.14226\n",
      "[8]\ttraining-logloss:0.03958\ttesting-logloss:0.14197\n",
      "[9]\ttraining-logloss:0.03857\ttesting-logloss:0.14150\n",
      "[10]\ttraining-logloss:0.03766\ttesting-logloss:0.14099\n",
      "[11]\ttraining-logloss:0.03674\ttesting-logloss:0.14082\n",
      "[12]\ttraining-logloss:0.03585\ttesting-logloss:0.14034\n",
      "[13]\ttraining-logloss:0.03501\ttesting-logloss:0.14032\n",
      "[14]\ttraining-logloss:0.03419\ttesting-logloss:0.14024\n",
      "[15]\ttraining-logloss:0.03345\ttesting-logloss:0.13989\n",
      "[16]\ttraining-logloss:0.03270\ttesting-logloss:0.13924\n",
      "[17]\ttraining-logloss:0.03198\ttesting-logloss:0.13945\n",
      "[18]\ttraining-logloss:0.03130\ttesting-logloss:0.13921\n",
      "[19]\ttraining-logloss:0.03064\ttesting-logloss:0.13900\n",
      "[20]\ttraining-logloss:0.02999\ttesting-logloss:0.13928\n",
      "[21]\ttraining-logloss:0.02937\ttesting-logloss:0.13981\n",
      "[22]\ttraining-logloss:0.02878\ttesting-logloss:0.14010\n",
      "[23]\ttraining-logloss:0.02814\ttesting-logloss:0.14053\n",
      "[24]\ttraining-logloss:0.02765\ttesting-logloss:0.13983\n",
      "[25]\ttraining-logloss:0.02711\ttesting-logloss:0.14015\n",
      "[26]\ttraining-logloss:0.02655\ttesting-logloss:0.14041\n",
      "[27]\ttraining-logloss:0.02600\ttesting-logloss:0.14032\n",
      "[28]\ttraining-logloss:0.02553\ttesting-logloss:0.14066\n",
      "[29]\ttraining-logloss:0.02515\ttesting-logloss:0.14010\n",
      "[30]\ttraining-logloss:0.02471\ttesting-logloss:0.14016\n",
      "[31]\ttraining-logloss:0.02424\ttesting-logloss:0.14012\n",
      "[32]\ttraining-logloss:0.02383\ttesting-logloss:0.14050\n",
      "[33]\ttraining-logloss:0.02342\ttesting-logloss:0.14086\n",
      "[34]\ttraining-logloss:0.02304\ttesting-logloss:0.14117\n",
      "[35]\ttraining-logloss:0.02270\ttesting-logloss:0.14037\n",
      "[36]\ttraining-logloss:0.02233\ttesting-logloss:0.14105\n",
      "[37]\ttraining-logloss:0.02195\ttesting-logloss:0.14122\n",
      "[38]\ttraining-logloss:0.02157\ttesting-logloss:0.14149\n",
      "[39]\ttraining-logloss:0.02125\ttesting-logloss:0.14172\n",
      "[40]\ttraining-logloss:0.02097\ttesting-logloss:0.14124\n",
      "[41]\ttraining-logloss:0.02065\ttesting-logloss:0.14134\n",
      "[42]\ttraining-logloss:0.02036\ttesting-logloss:0.14153\n",
      "[43]\ttraining-logloss:0.02004\ttesting-logloss:0.14175\n",
      "[44]\ttraining-logloss:0.01974\ttesting-logloss:0.14180\n",
      "[45]\ttraining-logloss:0.01946\ttesting-logloss:0.14149\n",
      "[46]\ttraining-logloss:0.01918\ttesting-logloss:0.14172\n",
      "[47]\ttraining-logloss:0.01893\ttesting-logloss:0.14192\n",
      "[48]\ttraining-logloss:0.01866\ttesting-logloss:0.14218\n",
      "[49]\ttraining-logloss:0.01840\ttesting-logloss:0.14230\n",
      "[50]\ttraining-logloss:0.01817\ttesting-logloss:0.14182\n",
      "[51]\ttraining-logloss:0.01789\ttesting-logloss:0.14201\n",
      "[52]\ttraining-logloss:0.01762\ttesting-logloss:0.14212\n",
      "[53]\ttraining-logloss:0.01740\ttesting-logloss:0.14232\n",
      "[54]\ttraining-logloss:0.01718\ttesting-logloss:0.14258\n",
      "[55]\ttraining-logloss:0.01697\ttesting-logloss:0.14279\n",
      "[56]\ttraining-logloss:0.01675\ttesting-logloss:0.14299\n",
      "[57]\ttraining-logloss:0.01654\ttesting-logloss:0.14315\n",
      "[58]\ttraining-logloss:0.01632\ttesting-logloss:0.14354\n",
      "[59]\ttraining-logloss:0.01615\ttesting-logloss:0.14314\n"
     ]
    }
   ],
   "source": [
    "model = xgb.train(params=params, dtrain=xgb_train, num_boost_round=num_round, evals=watch_list)"
   ]
  },
  {
   "cell_type": "code",
   "execution_count": null,
   "metadata": {},
   "outputs": [],
   "source": []
  }
 ],
 "metadata": {
  "kernelspec": {
   "display_name": "Python 3",
   "language": "python",
   "name": "python3"
  },
  "language_info": {
   "codemirror_mode": {
    "name": "ipython",
    "version": 3
   },
   "file_extension": ".py",
   "mimetype": "text/x-python",
   "name": "python",
   "nbconvert_exporter": "python",
   "pygments_lexer": "ipython3",
   "version": "3.8.3"
  }
 },
 "nbformat": 4,
 "nbformat_minor": 4
}
