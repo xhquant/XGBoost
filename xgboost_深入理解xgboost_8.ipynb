{
 "cells": [
  {
   "cell_type": "markdown",
   "metadata": {},
   "source": [
    "## 深入理解xgboost八"
   ]
  },
  {
   "cell_type": "markdown",
   "metadata": {},
   "source": [
    "### 水泥强度回归问题"
   ]
  },
  {
   "cell_type": "code",
   "execution_count": 1,
   "metadata": {},
   "outputs": [],
   "source": [
    "import pandas as pd\n",
    "import numpy as np\n",
    "\n",
    "import xgboost as xgb"
   ]
  },
  {
   "cell_type": "code",
   "execution_count": 2,
   "metadata": {},
   "outputs": [
    {
     "data": {
      "text/plain": [
       "((1030, 9),\n",
       " Index(['Cement (component 1)(kg in a m^3 mixture)',\n",
       "        'Blast Furnace Slag (component 2)(kg in a m^3 mixture)',\n",
       "        'Fly Ash (component 3)(kg in a m^3 mixture)',\n",
       "        'Water  (component 4)(kg in a m^3 mixture)',\n",
       "        'Superplasticizer (component 5)(kg in a m^3 mixture)',\n",
       "        'Coarse Aggregate  (component 6)(kg in a m^3 mixture)',\n",
       "        'Fine Aggregate (component 7)(kg in a m^3 mixture)', 'Age (day)',\n",
       "        'Concrete compressive strength(MPa, megapascals) '],\n",
       "       dtype='object'))"
      ]
     },
     "execution_count": 2,
     "metadata": {},
     "output_type": "execute_result"
    }
   ],
   "source": [
    "data = pd.read_excel(\"dataset/concrete/Concrete_Data.xls\")\n",
    "data.shape, data.columns"
   ]
  },
  {
   "cell_type": "code",
   "execution_count": 3,
   "metadata": {},
   "outputs": [
    {
     "data": {
      "text/html": [
       "<div>\n",
       "<style scoped>\n",
       "    .dataframe tbody tr th:only-of-type {\n",
       "        vertical-align: middle;\n",
       "    }\n",
       "\n",
       "    .dataframe tbody tr th {\n",
       "        vertical-align: top;\n",
       "    }\n",
       "\n",
       "    .dataframe thead th {\n",
       "        text-align: right;\n",
       "    }\n",
       "</style>\n",
       "<table border=\"1\" class=\"dataframe\">\n",
       "  <thead>\n",
       "    <tr style=\"text-align: right;\">\n",
       "      <th></th>\n",
       "      <th>Cement (component 1)(kg in a m^3 mixture)</th>\n",
       "      <th>Blast Furnace Slag (component 2)(kg in a m^3 mixture)</th>\n",
       "      <th>Fly Ash (component 3)(kg in a m^3 mixture)</th>\n",
       "      <th>Water  (component 4)(kg in a m^3 mixture)</th>\n",
       "      <th>Superplasticizer (component 5)(kg in a m^3 mixture)</th>\n",
       "      <th>Coarse Aggregate  (component 6)(kg in a m^3 mixture)</th>\n",
       "      <th>Fine Aggregate (component 7)(kg in a m^3 mixture)</th>\n",
       "      <th>Age (day)</th>\n",
       "      <th>Concrete compressive strength(MPa, megapascals)</th>\n",
       "    </tr>\n",
       "  </thead>\n",
       "  <tbody>\n",
       "    <tr>\n",
       "      <th>0</th>\n",
       "      <td>540.0</td>\n",
       "      <td>0.0</td>\n",
       "      <td>0.0</td>\n",
       "      <td>162.0</td>\n",
       "      <td>2.5</td>\n",
       "      <td>1040.0</td>\n",
       "      <td>676.0</td>\n",
       "      <td>28</td>\n",
       "      <td>79.986111</td>\n",
       "    </tr>\n",
       "    <tr>\n",
       "      <th>1</th>\n",
       "      <td>540.0</td>\n",
       "      <td>0.0</td>\n",
       "      <td>0.0</td>\n",
       "      <td>162.0</td>\n",
       "      <td>2.5</td>\n",
       "      <td>1055.0</td>\n",
       "      <td>676.0</td>\n",
       "      <td>28</td>\n",
       "      <td>61.887366</td>\n",
       "    </tr>\n",
       "    <tr>\n",
       "      <th>2</th>\n",
       "      <td>332.5</td>\n",
       "      <td>142.5</td>\n",
       "      <td>0.0</td>\n",
       "      <td>228.0</td>\n",
       "      <td>0.0</td>\n",
       "      <td>932.0</td>\n",
       "      <td>594.0</td>\n",
       "      <td>270</td>\n",
       "      <td>40.269535</td>\n",
       "    </tr>\n",
       "    <tr>\n",
       "      <th>3</th>\n",
       "      <td>332.5</td>\n",
       "      <td>142.5</td>\n",
       "      <td>0.0</td>\n",
       "      <td>228.0</td>\n",
       "      <td>0.0</td>\n",
       "      <td>932.0</td>\n",
       "      <td>594.0</td>\n",
       "      <td>365</td>\n",
       "      <td>41.052780</td>\n",
       "    </tr>\n",
       "    <tr>\n",
       "      <th>4</th>\n",
       "      <td>198.6</td>\n",
       "      <td>132.4</td>\n",
       "      <td>0.0</td>\n",
       "      <td>192.0</td>\n",
       "      <td>0.0</td>\n",
       "      <td>978.4</td>\n",
       "      <td>825.5</td>\n",
       "      <td>360</td>\n",
       "      <td>44.296075</td>\n",
       "    </tr>\n",
       "  </tbody>\n",
       "</table>\n",
       "</div>"
      ],
      "text/plain": [
       "   Cement (component 1)(kg in a m^3 mixture)  \\\n",
       "0                                      540.0   \n",
       "1                                      540.0   \n",
       "2                                      332.5   \n",
       "3                                      332.5   \n",
       "4                                      198.6   \n",
       "\n",
       "   Blast Furnace Slag (component 2)(kg in a m^3 mixture)  \\\n",
       "0                                                0.0       \n",
       "1                                                0.0       \n",
       "2                                              142.5       \n",
       "3                                              142.5       \n",
       "4                                              132.4       \n",
       "\n",
       "   Fly Ash (component 3)(kg in a m^3 mixture)  \\\n",
       "0                                         0.0   \n",
       "1                                         0.0   \n",
       "2                                         0.0   \n",
       "3                                         0.0   \n",
       "4                                         0.0   \n",
       "\n",
       "   Water  (component 4)(kg in a m^3 mixture)  \\\n",
       "0                                      162.0   \n",
       "1                                      162.0   \n",
       "2                                      228.0   \n",
       "3                                      228.0   \n",
       "4                                      192.0   \n",
       "\n",
       "   Superplasticizer (component 5)(kg in a m^3 mixture)  \\\n",
       "0                                                2.5     \n",
       "1                                                2.5     \n",
       "2                                                0.0     \n",
       "3                                                0.0     \n",
       "4                                                0.0     \n",
       "\n",
       "   Coarse Aggregate  (component 6)(kg in a m^3 mixture)  \\\n",
       "0                                             1040.0      \n",
       "1                                             1055.0      \n",
       "2                                              932.0      \n",
       "3                                              932.0      \n",
       "4                                              978.4      \n",
       "\n",
       "   Fine Aggregate (component 7)(kg in a m^3 mixture)  Age (day)  \\\n",
       "0                                              676.0         28   \n",
       "1                                              676.0         28   \n",
       "2                                              594.0        270   \n",
       "3                                              594.0        365   \n",
       "4                                              825.5        360   \n",
       "\n",
       "   Concrete compressive strength(MPa, megapascals)   \n",
       "0                                         79.986111  \n",
       "1                                         61.887366  \n",
       "2                                         40.269535  \n",
       "3                                         41.052780  \n",
       "4                                         44.296075  "
      ]
     },
     "execution_count": 3,
     "metadata": {},
     "output_type": "execute_result"
    }
   ],
   "source": [
    "data.head(5)"
   ]
  },
  {
   "cell_type": "code",
   "execution_count": 4,
   "metadata": {},
   "outputs": [
    {
     "data": {
      "text/html": [
       "<div>\n",
       "<style scoped>\n",
       "    .dataframe tbody tr th:only-of-type {\n",
       "        vertical-align: middle;\n",
       "    }\n",
       "\n",
       "    .dataframe tbody tr th {\n",
       "        vertical-align: top;\n",
       "    }\n",
       "\n",
       "    .dataframe thead th {\n",
       "        text-align: right;\n",
       "    }\n",
       "</style>\n",
       "<table border=\"1\" class=\"dataframe\">\n",
       "  <thead>\n",
       "    <tr style=\"text-align: right;\">\n",
       "      <th></th>\n",
       "      <th>Cement (component 1)(kg in a m^3 mixture)</th>\n",
       "      <th>Blast Furnace Slag (component 2)(kg in a m^3 mixture)</th>\n",
       "      <th>Fly Ash (component 3)(kg in a m^3 mixture)</th>\n",
       "      <th>Water  (component 4)(kg in a m^3 mixture)</th>\n",
       "      <th>Superplasticizer (component 5)(kg in a m^3 mixture)</th>\n",
       "      <th>Coarse Aggregate  (component 6)(kg in a m^3 mixture)</th>\n",
       "      <th>Fine Aggregate (component 7)(kg in a m^3 mixture)</th>\n",
       "      <th>Age (day)</th>\n",
       "      <th>label</th>\n",
       "    </tr>\n",
       "  </thead>\n",
       "  <tbody>\n",
       "    <tr>\n",
       "      <th>0</th>\n",
       "      <td>540.0</td>\n",
       "      <td>0.0</td>\n",
       "      <td>0.0</td>\n",
       "      <td>162.0</td>\n",
       "      <td>2.5</td>\n",
       "      <td>1040.0</td>\n",
       "      <td>676.0</td>\n",
       "      <td>28</td>\n",
       "      <td>79.986111</td>\n",
       "    </tr>\n",
       "    <tr>\n",
       "      <th>1</th>\n",
       "      <td>540.0</td>\n",
       "      <td>0.0</td>\n",
       "      <td>0.0</td>\n",
       "      <td>162.0</td>\n",
       "      <td>2.5</td>\n",
       "      <td>1055.0</td>\n",
       "      <td>676.0</td>\n",
       "      <td>28</td>\n",
       "      <td>61.887366</td>\n",
       "    </tr>\n",
       "    <tr>\n",
       "      <th>2</th>\n",
       "      <td>332.5</td>\n",
       "      <td>142.5</td>\n",
       "      <td>0.0</td>\n",
       "      <td>228.0</td>\n",
       "      <td>0.0</td>\n",
       "      <td>932.0</td>\n",
       "      <td>594.0</td>\n",
       "      <td>270</td>\n",
       "      <td>40.269535</td>\n",
       "    </tr>\n",
       "    <tr>\n",
       "      <th>3</th>\n",
       "      <td>332.5</td>\n",
       "      <td>142.5</td>\n",
       "      <td>0.0</td>\n",
       "      <td>228.0</td>\n",
       "      <td>0.0</td>\n",
       "      <td>932.0</td>\n",
       "      <td>594.0</td>\n",
       "      <td>365</td>\n",
       "      <td>41.052780</td>\n",
       "    </tr>\n",
       "    <tr>\n",
       "      <th>4</th>\n",
       "      <td>198.6</td>\n",
       "      <td>132.4</td>\n",
       "      <td>0.0</td>\n",
       "      <td>192.0</td>\n",
       "      <td>0.0</td>\n",
       "      <td>978.4</td>\n",
       "      <td>825.5</td>\n",
       "      <td>360</td>\n",
       "      <td>44.296075</td>\n",
       "    </tr>\n",
       "  </tbody>\n",
       "</table>\n",
       "</div>"
      ],
      "text/plain": [
       "   Cement (component 1)(kg in a m^3 mixture)  \\\n",
       "0                                      540.0   \n",
       "1                                      540.0   \n",
       "2                                      332.5   \n",
       "3                                      332.5   \n",
       "4                                      198.6   \n",
       "\n",
       "   Blast Furnace Slag (component 2)(kg in a m^3 mixture)  \\\n",
       "0                                                0.0       \n",
       "1                                                0.0       \n",
       "2                                              142.5       \n",
       "3                                              142.5       \n",
       "4                                              132.4       \n",
       "\n",
       "   Fly Ash (component 3)(kg in a m^3 mixture)  \\\n",
       "0                                         0.0   \n",
       "1                                         0.0   \n",
       "2                                         0.0   \n",
       "3                                         0.0   \n",
       "4                                         0.0   \n",
       "\n",
       "   Water  (component 4)(kg in a m^3 mixture)  \\\n",
       "0                                      162.0   \n",
       "1                                      162.0   \n",
       "2                                      228.0   \n",
       "3                                      228.0   \n",
       "4                                      192.0   \n",
       "\n",
       "   Superplasticizer (component 5)(kg in a m^3 mixture)  \\\n",
       "0                                                2.5     \n",
       "1                                                2.5     \n",
       "2                                                0.0     \n",
       "3                                                0.0     \n",
       "4                                                0.0     \n",
       "\n",
       "   Coarse Aggregate  (component 6)(kg in a m^3 mixture)  \\\n",
       "0                                             1040.0      \n",
       "1                                             1055.0      \n",
       "2                                              932.0      \n",
       "3                                              932.0      \n",
       "4                                              978.4      \n",
       "\n",
       "   Fine Aggregate (component 7)(kg in a m^3 mixture)  Age (day)      label  \n",
       "0                                              676.0         28  79.986111  \n",
       "1                                              676.0         28  61.887366  \n",
       "2                                              594.0        270  40.269535  \n",
       "3                                              594.0        365  41.052780  \n",
       "4                                              825.5        360  44.296075  "
      ]
     },
     "execution_count": 4,
     "metadata": {},
     "output_type": "execute_result"
    }
   ],
   "source": [
    "data.rename(columns={\"Concrete compressive strength(MPa, megapascals) \": \"label\"}, inplace=True)\n",
    "data.head(5)"
   ]
  },
  {
   "cell_type": "code",
   "execution_count": 5,
   "metadata": {},
   "outputs": [],
   "source": [
    "from sklearn.model_selection import train_test_split"
   ]
  },
  {
   "cell_type": "code",
   "execution_count": 6,
   "metadata": {},
   "outputs": [],
   "source": [
    "data_train, data_test = train_test_split(data, test_size=0.2, random_state=1)"
   ]
  },
  {
   "cell_type": "code",
   "execution_count": 7,
   "metadata": {},
   "outputs": [],
   "source": [
    "xgb_train = xgb.DMatrix(data_train.iloc[:, :7], data_train.label)\n",
    "xgb_test = xgb.DMatrix(data_test.iloc[:, :7], data_test.label)"
   ]
  },
  {
   "cell_type": "code",
   "execution_count": 8,
   "metadata": {},
   "outputs": [],
   "source": [
    "params = {\"objective\": \"reg:squarederror\",\n",
    "          \"booster\": \"gbtree\",\n",
    "          \"max_depth\": 5,\n",
    "          \"eta\": 0.05}"
   ]
  },
  {
   "cell_type": "code",
   "execution_count": 9,
   "metadata": {},
   "outputs": [],
   "source": [
    "num_round = 100\n",
    "watch_list = [(xgb_train, \"training\"), (xgb_test, \"testing\")]"
   ]
  },
  {
   "cell_type": "code",
   "execution_count": 10,
   "metadata": {},
   "outputs": [
    {
     "name": "stdout",
     "output_type": "stream",
     "text": [
      "[0]\ttraining-rmse:37.01497\ttesting-rmse:38.56051\n",
      "[1]\ttraining-rmse:35.37934\ttesting-rmse:36.88037\n",
      "[2]\ttraining-rmse:33.83223\ttesting-rmse:35.29172\n",
      "[3]\ttraining-rmse:32.36947\ttesting-rmse:33.79478\n",
      "[4]\ttraining-rmse:30.98706\ttesting-rmse:32.36994\n",
      "[5]\ttraining-rmse:29.67443\ttesting-rmse:31.01225\n",
      "[6]\ttraining-rmse:28.43419\ttesting-rmse:29.73952\n",
      "[7]\ttraining-rmse:27.26346\ttesting-rmse:28.52738\n",
      "[8]\ttraining-rmse:26.15695\ttesting-rmse:27.39201\n",
      "[9]\ttraining-rmse:25.11309\ttesting-rmse:26.31911\n",
      "[10]\ttraining-rmse:24.12539\ttesting-rmse:25.32935\n",
      "[11]\ttraining-rmse:23.19530\ttesting-rmse:24.40633\n",
      "[12]\ttraining-rmse:22.31845\ttesting-rmse:23.52685\n",
      "[13]\ttraining-rmse:21.49397\ttesting-rmse:22.71979\n",
      "[14]\ttraining-rmse:20.71589\ttesting-rmse:21.96205\n",
      "[15]\ttraining-rmse:19.98516\ttesting-rmse:21.23396\n",
      "[16]\ttraining-rmse:19.29807\ttesting-rmse:20.56927\n",
      "[17]\ttraining-rmse:18.64954\ttesting-rmse:19.93395\n",
      "[18]\ttraining-rmse:18.04500\ttesting-rmse:19.33588\n",
      "[19]\ttraining-rmse:17.47770\ttesting-rmse:18.79267\n",
      "[20]\ttraining-rmse:16.94256\ttesting-rmse:18.28399\n",
      "[21]\ttraining-rmse:16.44648\ttesting-rmse:17.79321\n",
      "[22]\ttraining-rmse:15.98414\ttesting-rmse:17.34117\n",
      "[23]\ttraining-rmse:15.54533\ttesting-rmse:16.93544\n",
      "[24]\ttraining-rmse:15.14260\ttesting-rmse:16.56036\n",
      "[25]\ttraining-rmse:14.76209\ttesting-rmse:16.21367\n",
      "[26]\ttraining-rmse:14.40704\ttesting-rmse:15.89155\n",
      "[27]\ttraining-rmse:14.08066\ttesting-rmse:15.58197\n",
      "[28]\ttraining-rmse:13.76922\ttesting-rmse:15.29550\n",
      "[29]\ttraining-rmse:13.48063\ttesting-rmse:15.03978\n",
      "[30]\ttraining-rmse:13.21203\ttesting-rmse:14.80891\n",
      "[31]\ttraining-rmse:12.96430\ttesting-rmse:14.57461\n",
      "[32]\ttraining-rmse:12.72779\ttesting-rmse:14.36688\n",
      "[33]\ttraining-rmse:12.51063\ttesting-rmse:14.17797\n",
      "[34]\ttraining-rmse:12.31429\ttesting-rmse:14.01142\n",
      "[35]\ttraining-rmse:12.12755\ttesting-rmse:13.82575\n",
      "[36]\ttraining-rmse:11.95404\ttesting-rmse:13.68468\n",
      "[37]\ttraining-rmse:11.79534\ttesting-rmse:13.55940\n",
      "[38]\ttraining-rmse:11.64739\ttesting-rmse:13.42309\n",
      "[39]\ttraining-rmse:11.50976\ttesting-rmse:13.30662\n",
      "[40]\ttraining-rmse:11.38314\ttesting-rmse:13.20039\n",
      "[41]\ttraining-rmse:11.26576\ttesting-rmse:13.12513\n",
      "[42]\ttraining-rmse:11.15951\ttesting-rmse:13.03816\n",
      "[43]\ttraining-rmse:11.05793\ttesting-rmse:12.95933\n",
      "[44]\ttraining-rmse:10.96677\ttesting-rmse:12.88546\n",
      "[45]\ttraining-rmse:10.88284\ttesting-rmse:12.83309\n",
      "[46]\ttraining-rmse:10.80344\ttesting-rmse:12.77755\n",
      "[47]\ttraining-rmse:10.72984\ttesting-rmse:12.72633\n",
      "[48]\ttraining-rmse:10.66264\ttesting-rmse:12.68359\n",
      "[49]\ttraining-rmse:10.60002\ttesting-rmse:12.64738\n",
      "[50]\ttraining-rmse:10.54240\ttesting-rmse:12.61938\n",
      "[51]\ttraining-rmse:10.49096\ttesting-rmse:12.58871\n",
      "[52]\ttraining-rmse:10.44162\ttesting-rmse:12.56224\n",
      "[53]\ttraining-rmse:10.39674\ttesting-rmse:12.54770\n",
      "[54]\ttraining-rmse:10.35422\ttesting-rmse:12.53598\n",
      "[55]\ttraining-rmse:10.31616\ttesting-rmse:12.52676\n",
      "[56]\ttraining-rmse:10.28044\ttesting-rmse:12.51154\n",
      "[57]\ttraining-rmse:10.24842\ttesting-rmse:12.49892\n",
      "[58]\ttraining-rmse:10.21628\ttesting-rmse:12.49200\n",
      "[59]\ttraining-rmse:10.18723\ttesting-rmse:12.48700\n",
      "[60]\ttraining-rmse:10.16242\ttesting-rmse:12.47661\n",
      "[61]\ttraining-rmse:10.13659\ttesting-rmse:12.47152\n",
      "[62]\ttraining-rmse:10.11556\ttesting-rmse:12.46309\n",
      "[63]\ttraining-rmse:10.09526\ttesting-rmse:12.46116\n",
      "[64]\ttraining-rmse:10.07638\ttesting-rmse:12.46064\n",
      "[65]\ttraining-rmse:10.05717\ttesting-rmse:12.46510\n",
      "[66]\ttraining-rmse:10.04047\ttesting-rmse:12.47178\n",
      "[67]\ttraining-rmse:10.02547\ttesting-rmse:12.47362\n",
      "[68]\ttraining-rmse:10.01193\ttesting-rmse:12.47541\n",
      "[69]\ttraining-rmse:9.99716\ttesting-rmse:12.47213\n",
      "[70]\ttraining-rmse:9.98351\ttesting-rmse:12.47808\n",
      "[71]\ttraining-rmse:9.97089\ttesting-rmse:12.47641\n",
      "[72]\ttraining-rmse:9.95987\ttesting-rmse:12.47673\n",
      "[73]\ttraining-rmse:9.94859\ttesting-rmse:12.48276\n",
      "[74]\ttraining-rmse:9.93806\ttesting-rmse:12.48761\n",
      "[75]\ttraining-rmse:9.92987\ttesting-rmse:12.48372\n",
      "[76]\ttraining-rmse:9.92008\ttesting-rmse:12.48724\n",
      "[77]\ttraining-rmse:9.91318\ttesting-rmse:12.48534\n",
      "[78]\ttraining-rmse:9.90383\ttesting-rmse:12.48308\n",
      "[79]\ttraining-rmse:9.89765\ttesting-rmse:12.48221\n",
      "[80]\ttraining-rmse:9.89051\ttesting-rmse:12.48329\n",
      "[81]\ttraining-rmse:9.88520\ttesting-rmse:12.48355\n",
      "[82]\ttraining-rmse:9.87801\ttesting-rmse:12.49603\n",
      "[83]\ttraining-rmse:9.87283\ttesting-rmse:12.49539\n",
      "[84]\ttraining-rmse:9.86701\ttesting-rmse:12.50596\n",
      "[85]\ttraining-rmse:9.86293\ttesting-rmse:12.51009\n",
      "[86]\ttraining-rmse:9.85907\ttesting-rmse:12.51062\n",
      "[87]\ttraining-rmse:9.85407\ttesting-rmse:12.52069\n",
      "[88]\ttraining-rmse:9.84951\ttesting-rmse:12.52288\n",
      "[89]\ttraining-rmse:9.84521\ttesting-rmse:12.53557\n",
      "[90]\ttraining-rmse:9.84087\ttesting-rmse:12.54539\n",
      "[91]\ttraining-rmse:9.83755\ttesting-rmse:12.54643\n",
      "[92]\ttraining-rmse:9.83420\ttesting-rmse:12.55345\n",
      "[93]\ttraining-rmse:9.82935\ttesting-rmse:12.57071\n",
      "[94]\ttraining-rmse:9.82675\ttesting-rmse:12.58079\n",
      "[95]\ttraining-rmse:9.82243\ttesting-rmse:12.58632\n",
      "[96]\ttraining-rmse:9.81882\ttesting-rmse:12.59698\n",
      "[97]\ttraining-rmse:9.81551\ttesting-rmse:12.60689\n",
      "[98]\ttraining-rmse:9.81268\ttesting-rmse:12.61146\n",
      "[99]\ttraining-rmse:9.81068\ttesting-rmse:12.61648\n"
     ]
    }
   ],
   "source": [
    "model = xgb.train(params=params, dtrain=xgb_train, num_boost_round=num_round, evals=watch_list)"
   ]
  },
  {
   "cell_type": "code",
   "execution_count": 11,
   "metadata": {},
   "outputs": [],
   "source": [
    "y_pred = model.predict(xgb_test)"
   ]
  },
  {
   "cell_type": "code",
   "execution_count": 12,
   "metadata": {},
   "outputs": [],
   "source": [
    "from sklearn.metrics import mean_squared_error"
   ]
  },
  {
   "cell_type": "code",
   "execution_count": 13,
   "metadata": {},
   "outputs": [
    {
     "name": "stdout",
     "output_type": "stream",
     "text": [
      "159.17557679351535\n"
     ]
    }
   ],
   "source": [
    "print(mean_squared_error(y_true=data_test.label, y_pred=y_pred))"
   ]
  },
  {
   "cell_type": "code",
   "execution_count": 14,
   "metadata": {},
   "outputs": [],
   "source": [
    "model.save_model(\"model/concrete.xgb\")"
   ]
  },
  {
   "cell_type": "code",
   "execution_count": 15,
   "metadata": {},
   "outputs": [],
   "source": [
    "# 重新加载模型\n",
    "booster = xgb.Booster()\n",
    "booster.load_model(\"model/concrete.xgb\")"
   ]
  },
  {
   "cell_type": "code",
   "execution_count": 16,
   "metadata": {},
   "outputs": [
    {
     "name": "stdout",
     "output_type": "stream",
     "text": [
      "159.17557679351535\n"
     ]
    }
   ],
   "source": [
    "pred = booster.predict(xgb_test)\n",
    "print(mean_squared_error(y_true=data_test.label, y_pred=pred))"
   ]
  },
  {
   "cell_type": "code",
   "execution_count": 17,
   "metadata": {},
   "outputs": [],
   "source": [
    "# 导出模型\n",
    "booster.dump_model(\"model/concrete.json\")"
   ]
  }
 ],
 "metadata": {
  "kernelspec": {
   "display_name": "Python 3",
   "language": "python",
   "name": "python3"
  },
  "language_info": {
   "codemirror_mode": {
    "name": "ipython",
    "version": 3
   },
   "file_extension": ".py",
   "mimetype": "text/x-python",
   "name": "python",
   "nbconvert_exporter": "python",
   "pygments_lexer": "ipython3",
   "version": "3.8.3"
  }
 },
 "nbformat": 4,
 "nbformat_minor": 4
}
