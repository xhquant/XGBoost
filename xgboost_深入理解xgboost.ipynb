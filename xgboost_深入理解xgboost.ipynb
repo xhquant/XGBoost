{
 "cells": [
  {
   "cell_type": "markdown",
   "metadata": {},
   "source": [
    "## 预测蘑菇是否有毒"
   ]
  },
  {
   "cell_type": "code",
   "execution_count": 1,
   "metadata": {},
   "outputs": [],
   "source": [
    "import xgboost as xgb"
   ]
  },
  {
   "cell_type": "code",
   "execution_count": 2,
   "metadata": {},
   "outputs": [],
   "source": [
    "# 加载数据\n",
    "xgb_train = xgb.DMatrix(\"dataset/agaricus/agaricus.txt.train\")\n",
    "xgb_test = xgb.DMatrix(\"dataset/agaricus/agaricus.txt.test\")"
   ]
  },
  {
   "cell_type": "code",
   "execution_count": 3,
   "metadata": {},
   "outputs": [],
   "source": [
    "# 参数\n",
    "params = {\"objective\": \"binary:logistic\",\n",
    "          \"booster\": \"gbtree\",\n",
    "          \"max_depth\": 3}\n",
    "\n",
    "# 训练轮数\n",
    "num_round = 10\n",
    "\n",
    "# 训练过程实时输出评估结果\n",
    "watch_list = [(xgb_train, \"training\"), (xgb_test, \"testing\")]"
   ]
  },
  {
   "cell_type": "code",
   "execution_count": 4,
   "metadata": {},
   "outputs": [
    {
     "name": "stdout",
     "output_type": "stream",
     "text": [
      "[0]\ttraining-logloss:0.45224\ttesting-logloss:0.45317\n",
      "[1]\ttraining-logloss:0.32281\ttesting-logloss:0.32412\n",
      "[2]\ttraining-logloss:0.23637\ttesting-logloss:0.23740\n",
      "[3]\ttraining-logloss:0.16932\ttesting-logloss:0.16935\n",
      "[4]\ttraining-logloss:0.12386\ttesting-logloss:0.12352\n",
      "[5]\ttraining-logloss:0.09491\ttesting-logloss:0.09361\n",
      "[6]\ttraining-logloss:0.06986\ttesting-logloss:0.06916\n",
      "[7]\ttraining-logloss:0.05188\ttesting-logloss:0.05130\n",
      "[8]\ttraining-logloss:0.03889\ttesting-logloss:0.03859\n",
      "[9]\ttraining-logloss:0.02952\ttesting-logloss:0.02884\n"
     ]
    }
   ],
   "source": [
    "model = xgb.train(params, xgb_train, num_round, evals=watch_list)"
   ]
  },
  {
   "cell_type": "code",
   "execution_count": 5,
   "metadata": {},
   "outputs": [
    {
     "data": {
      "text/plain": [
       "array([0.02386593, 0.9543875 , 0.02386593, ..., 0.9771962 , 0.02340852,\n",
       "       0.9771962 ], dtype=float32)"
      ]
     },
     "execution_count": 5,
     "metadata": {},
     "output_type": "execute_result"
    }
   ],
   "source": [
    "pred = model.predict(xgb_test)\n",
    "pred"
   ]
  },
  {
   "cell_type": "code",
   "execution_count": null,
   "metadata": {},
   "outputs": [],
   "source": []
  }
 ],
 "metadata": {
  "kernelspec": {
   "display_name": "Python 3",
   "language": "python",
   "name": "python3"
  },
  "language_info": {
   "codemirror_mode": {
    "name": "ipython",
    "version": 3
   },
   "file_extension": ".py",
   "mimetype": "text/x-python",
   "name": "python",
   "nbconvert_exporter": "python",
   "pygments_lexer": "ipython3",
   "version": "3.8.3"
  }
 },
 "nbformat": 4,
 "nbformat_minor": 4
}
