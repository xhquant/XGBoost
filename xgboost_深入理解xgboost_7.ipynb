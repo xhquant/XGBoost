{
 "cells": [
  {
   "cell_type": "markdown",
   "metadata": {},
   "source": [
    "## 深入理解xgboost七"
   ]
  },
  {
   "cell_type": "markdown",
   "metadata": {},
   "source": [
    "### 小麦钟子多分类问题"
   ]
  },
  {
   "cell_type": "code",
   "execution_count": 1,
   "metadata": {},
   "outputs": [],
   "source": [
    "import numpy as np\n",
    "import pandas as pd\n",
    "\n",
    "import xgboost as xgb"
   ]
  },
  {
   "cell_type": "code",
   "execution_count": 2,
   "metadata": {},
   "outputs": [],
   "source": [
    "data = pd.read_csv(\"dataset/seeds/seeds_dataset.txt\", header=None, sep=\"\\s+\", converters={7:lambda x: int(x) - 1})"
   ]
  },
  {
   "cell_type": "code",
   "execution_count": 3,
   "metadata": {},
   "outputs": [
    {
     "data": {
      "text/html": [
       "<div>\n",
       "<style scoped>\n",
       "    .dataframe tbody tr th:only-of-type {\n",
       "        vertical-align: middle;\n",
       "    }\n",
       "\n",
       "    .dataframe tbody tr th {\n",
       "        vertical-align: top;\n",
       "    }\n",
       "\n",
       "    .dataframe thead th {\n",
       "        text-align: right;\n",
       "    }\n",
       "</style>\n",
       "<table border=\"1\" class=\"dataframe\">\n",
       "  <thead>\n",
       "    <tr style=\"text-align: right;\">\n",
       "      <th></th>\n",
       "      <th>0</th>\n",
       "      <th>1</th>\n",
       "      <th>2</th>\n",
       "      <th>3</th>\n",
       "      <th>4</th>\n",
       "      <th>5</th>\n",
       "      <th>6</th>\n",
       "      <th>7</th>\n",
       "    </tr>\n",
       "  </thead>\n",
       "  <tbody>\n",
       "    <tr>\n",
       "      <th>0</th>\n",
       "      <td>15.26</td>\n",
       "      <td>14.84</td>\n",
       "      <td>0.8710</td>\n",
       "      <td>5.763</td>\n",
       "      <td>3.312</td>\n",
       "      <td>2.221</td>\n",
       "      <td>5.220</td>\n",
       "      <td>0</td>\n",
       "    </tr>\n",
       "    <tr>\n",
       "      <th>1</th>\n",
       "      <td>14.88</td>\n",
       "      <td>14.57</td>\n",
       "      <td>0.8811</td>\n",
       "      <td>5.554</td>\n",
       "      <td>3.333</td>\n",
       "      <td>1.018</td>\n",
       "      <td>4.956</td>\n",
       "      <td>0</td>\n",
       "    </tr>\n",
       "    <tr>\n",
       "      <th>2</th>\n",
       "      <td>14.29</td>\n",
       "      <td>14.09</td>\n",
       "      <td>0.9050</td>\n",
       "      <td>5.291</td>\n",
       "      <td>3.337</td>\n",
       "      <td>2.699</td>\n",
       "      <td>4.825</td>\n",
       "      <td>0</td>\n",
       "    </tr>\n",
       "    <tr>\n",
       "      <th>3</th>\n",
       "      <td>13.84</td>\n",
       "      <td>13.94</td>\n",
       "      <td>0.8955</td>\n",
       "      <td>5.324</td>\n",
       "      <td>3.379</td>\n",
       "      <td>2.259</td>\n",
       "      <td>4.805</td>\n",
       "      <td>0</td>\n",
       "    </tr>\n",
       "    <tr>\n",
       "      <th>4</th>\n",
       "      <td>16.14</td>\n",
       "      <td>14.99</td>\n",
       "      <td>0.9034</td>\n",
       "      <td>5.658</td>\n",
       "      <td>3.562</td>\n",
       "      <td>1.355</td>\n",
       "      <td>5.175</td>\n",
       "      <td>0</td>\n",
       "    </tr>\n",
       "  </tbody>\n",
       "</table>\n",
       "</div>"
      ],
      "text/plain": [
       "       0      1       2      3      4      5      6  7\n",
       "0  15.26  14.84  0.8710  5.763  3.312  2.221  5.220  0\n",
       "1  14.88  14.57  0.8811  5.554  3.333  1.018  4.956  0\n",
       "2  14.29  14.09  0.9050  5.291  3.337  2.699  4.825  0\n",
       "3  13.84  13.94  0.8955  5.324  3.379  2.259  4.805  0\n",
       "4  16.14  14.99  0.9034  5.658  3.562  1.355  5.175  0"
      ]
     },
     "execution_count": 3,
     "metadata": {},
     "output_type": "execute_result"
    }
   ],
   "source": [
    "data.head(5)"
   ]
  },
  {
   "cell_type": "code",
   "execution_count": 4,
   "metadata": {},
   "outputs": [
    {
     "data": {
      "text/html": [
       "<div>\n",
       "<style scoped>\n",
       "    .dataframe tbody tr th:only-of-type {\n",
       "        vertical-align: middle;\n",
       "    }\n",
       "\n",
       "    .dataframe tbody tr th {\n",
       "        vertical-align: top;\n",
       "    }\n",
       "\n",
       "    .dataframe thead th {\n",
       "        text-align: right;\n",
       "    }\n",
       "</style>\n",
       "<table border=\"1\" class=\"dataframe\">\n",
       "  <thead>\n",
       "    <tr style=\"text-align: right;\">\n",
       "      <th></th>\n",
       "      <th>0</th>\n",
       "      <th>1</th>\n",
       "      <th>2</th>\n",
       "      <th>3</th>\n",
       "      <th>4</th>\n",
       "      <th>5</th>\n",
       "      <th>6</th>\n",
       "      <th>label</th>\n",
       "    </tr>\n",
       "  </thead>\n",
       "  <tbody>\n",
       "    <tr>\n",
       "      <th>0</th>\n",
       "      <td>15.26</td>\n",
       "      <td>14.84</td>\n",
       "      <td>0.8710</td>\n",
       "      <td>5.763</td>\n",
       "      <td>3.312</td>\n",
       "      <td>2.221</td>\n",
       "      <td>5.220</td>\n",
       "      <td>0</td>\n",
       "    </tr>\n",
       "    <tr>\n",
       "      <th>1</th>\n",
       "      <td>14.88</td>\n",
       "      <td>14.57</td>\n",
       "      <td>0.8811</td>\n",
       "      <td>5.554</td>\n",
       "      <td>3.333</td>\n",
       "      <td>1.018</td>\n",
       "      <td>4.956</td>\n",
       "      <td>0</td>\n",
       "    </tr>\n",
       "    <tr>\n",
       "      <th>2</th>\n",
       "      <td>14.29</td>\n",
       "      <td>14.09</td>\n",
       "      <td>0.9050</td>\n",
       "      <td>5.291</td>\n",
       "      <td>3.337</td>\n",
       "      <td>2.699</td>\n",
       "      <td>4.825</td>\n",
       "      <td>0</td>\n",
       "    </tr>\n",
       "    <tr>\n",
       "      <th>3</th>\n",
       "      <td>13.84</td>\n",
       "      <td>13.94</td>\n",
       "      <td>0.8955</td>\n",
       "      <td>5.324</td>\n",
       "      <td>3.379</td>\n",
       "      <td>2.259</td>\n",
       "      <td>4.805</td>\n",
       "      <td>0</td>\n",
       "    </tr>\n",
       "    <tr>\n",
       "      <th>4</th>\n",
       "      <td>16.14</td>\n",
       "      <td>14.99</td>\n",
       "      <td>0.9034</td>\n",
       "      <td>5.658</td>\n",
       "      <td>3.562</td>\n",
       "      <td>1.355</td>\n",
       "      <td>5.175</td>\n",
       "      <td>0</td>\n",
       "    </tr>\n",
       "  </tbody>\n",
       "</table>\n",
       "</div>"
      ],
      "text/plain": [
       "       0      1       2      3      4      5      6  label\n",
       "0  15.26  14.84  0.8710  5.763  3.312  2.221  5.220      0\n",
       "1  14.88  14.57  0.8811  5.554  3.333  1.018  4.956      0\n",
       "2  14.29  14.09  0.9050  5.291  3.337  2.699  4.825      0\n",
       "3  13.84  13.94  0.8955  5.324  3.379  2.259  4.805      0\n",
       "4  16.14  14.99  0.9034  5.658  3.562  1.355  5.175      0"
      ]
     },
     "execution_count": 4,
     "metadata": {},
     "output_type": "execute_result"
    }
   ],
   "source": [
    "data.rename(columns={7:\"label\"}, inplace=True)\n",
    "data.head(5)"
   ]
  },
  {
   "cell_type": "code",
   "execution_count": 5,
   "metadata": {},
   "outputs": [],
   "source": [
    "from sklearn.model_selection import train_test_split"
   ]
  },
  {
   "cell_type": "code",
   "execution_count": 6,
   "metadata": {},
   "outputs": [
    {
     "data": {
      "text/plain": [
       "((210, 8), (168, 8), (42, 8))"
      ]
     },
     "execution_count": 6,
     "metadata": {},
     "output_type": "execute_result"
    }
   ],
   "source": [
    "data_train, data_test = train_test_split(data, test_size=0.2, random_state=1)\n",
    "\n",
    "data.shape, data_train.shape, data_test.shape "
   ]
  },
  {
   "cell_type": "code",
   "execution_count": 7,
   "metadata": {},
   "outputs": [],
   "source": [
    "xgb_train = xgb.DMatrix(data_train.iloc[:, :6], data_train[\"label\"])\n",
    "xgb_test = xgb.DMatrix(data_test.iloc[:, :6], data_test[\"label\"])"
   ]
  },
  {
   "cell_type": "code",
   "execution_count": 8,
   "metadata": {},
   "outputs": [],
   "source": [
    "params = {\"objective\":\"multi:softmax\",\n",
    "          \"booster\":\"gbtree\",\n",
    "          \"num_class\":3,\n",
    "          \"eta\":0.05,\n",
    "          \"max_depth\":5}"
   ]
  },
  {
   "cell_type": "code",
   "execution_count": 9,
   "metadata": {},
   "outputs": [],
   "source": [
    "watch_list = [(xgb_train, \"training\"), (xgb_test, \"testing\")]\n",
    "num_round = 50"
   ]
  },
  {
   "cell_type": "code",
   "execution_count": 10,
   "metadata": {},
   "outputs": [
    {
     "name": "stdout",
     "output_type": "stream",
     "text": [
      "[0]\ttraining-mlogloss:1.03486\ttesting-mlogloss:1.04236\n",
      "[1]\ttraining-mlogloss:0.97661\ttesting-mlogloss:0.99264\n",
      "[2]\ttraining-mlogloss:0.92288\ttesting-mlogloss:0.94710\n",
      "[3]\ttraining-mlogloss:0.87294\ttesting-mlogloss:0.90375\n",
      "[4]\ttraining-mlogloss:0.82683\ttesting-mlogloss:0.86525\n",
      "[5]\ttraining-mlogloss:0.78345\ttesting-mlogloss:0.82644\n",
      "[6]\ttraining-mlogloss:0.74350\ttesting-mlogloss:0.79361\n",
      "[7]\ttraining-mlogloss:0.70575\ttesting-mlogloss:0.75971\n",
      "[8]\ttraining-mlogloss:0.67087\ttesting-mlogloss:0.73156\n",
      "[9]\ttraining-mlogloss:0.63813\ttesting-mlogloss:0.70459\n",
      "[10]\ttraining-mlogloss:0.60718\ttesting-mlogloss:0.67808\n",
      "[11]\ttraining-mlogloss:0.57828\ttesting-mlogloss:0.65310\n",
      "[12]\ttraining-mlogloss:0.55132\ttesting-mlogloss:0.63193\n",
      "[13]\ttraining-mlogloss:0.52586\ttesting-mlogloss:0.61171\n",
      "[14]\ttraining-mlogloss:0.50163\ttesting-mlogloss:0.59077\n",
      "[15]\ttraining-mlogloss:0.47913\ttesting-mlogloss:0.57406\n",
      "[16]\ttraining-mlogloss:0.45779\ttesting-mlogloss:0.55739\n",
      "[17]\ttraining-mlogloss:0.43765\ttesting-mlogloss:0.54084\n",
      "[18]\ttraining-mlogloss:0.41825\ttesting-mlogloss:0.52595\n",
      "[19]\ttraining-mlogloss:0.39993\ttesting-mlogloss:0.51161\n",
      "[20]\ttraining-mlogloss:0.38292\ttesting-mlogloss:0.49888\n",
      "[21]\ttraining-mlogloss:0.36647\ttesting-mlogloss:0.48546\n",
      "[22]\ttraining-mlogloss:0.35130\ttesting-mlogloss:0.47437\n",
      "[23]\ttraining-mlogloss:0.33590\ttesting-mlogloss:0.46251\n",
      "[24]\ttraining-mlogloss:0.32144\ttesting-mlogloss:0.45181\n",
      "[25]\ttraining-mlogloss:0.30751\ttesting-mlogloss:0.44225\n",
      "[26]\ttraining-mlogloss:0.29444\ttesting-mlogloss:0.43285\n",
      "[27]\ttraining-mlogloss:0.28202\ttesting-mlogloss:0.42432\n",
      "[28]\ttraining-mlogloss:0.27013\ttesting-mlogloss:0.41634\n",
      "[29]\ttraining-mlogloss:0.25952\ttesting-mlogloss:0.40980\n",
      "[30]\ttraining-mlogloss:0.24876\ttesting-mlogloss:0.40172\n",
      "[31]\ttraining-mlogloss:0.23892\ttesting-mlogloss:0.39411\n",
      "[32]\ttraining-mlogloss:0.22919\ttesting-mlogloss:0.38714\n",
      "[33]\ttraining-mlogloss:0.21993\ttesting-mlogloss:0.38048\n",
      "[34]\ttraining-mlogloss:0.21160\ttesting-mlogloss:0.37450\n",
      "[35]\ttraining-mlogloss:0.20346\ttesting-mlogloss:0.36906\n",
      "[36]\ttraining-mlogloss:0.19545\ttesting-mlogloss:0.36361\n",
      "[37]\ttraining-mlogloss:0.18824\ttesting-mlogloss:0.35873\n",
      "[38]\ttraining-mlogloss:0.18081\ttesting-mlogloss:0.35420\n",
      "[39]\ttraining-mlogloss:0.17429\ttesting-mlogloss:0.34971\n",
      "[40]\ttraining-mlogloss:0.16805\ttesting-mlogloss:0.34576\n",
      "[41]\ttraining-mlogloss:0.16161\ttesting-mlogloss:0.34252\n",
      "[42]\ttraining-mlogloss:0.15601\ttesting-mlogloss:0.33878\n",
      "[43]\ttraining-mlogloss:0.15055\ttesting-mlogloss:0.33588\n",
      "[44]\ttraining-mlogloss:0.14515\ttesting-mlogloss:0.33286\n",
      "[45]\ttraining-mlogloss:0.14015\ttesting-mlogloss:0.33042\n",
      "[46]\ttraining-mlogloss:0.13537\ttesting-mlogloss:0.32819\n",
      "[47]\ttraining-mlogloss:0.13075\ttesting-mlogloss:0.32588\n",
      "[48]\ttraining-mlogloss:0.12646\ttesting-mlogloss:0.32374\n",
      "[49]\ttraining-mlogloss:0.12241\ttesting-mlogloss:0.32230\n"
     ]
    }
   ],
   "source": [
    "model = xgb.train(params=params, dtrain=xgb_train, num_boost_round=num_round, evals=watch_list)"
   ]
  },
  {
   "cell_type": "code",
   "execution_count": 11,
   "metadata": {},
   "outputs": [],
   "source": [
    "# 预测\n",
    "y_pred = model.predict(xgb_test)"
   ]
  },
  {
   "cell_type": "code",
   "execution_count": 12,
   "metadata": {},
   "outputs": [],
   "source": [
    "# 评测\n",
    "error_rate = np.sum(y_pred != data_test.label) / data_test.shape[0]"
   ]
  },
  {
   "cell_type": "code",
   "execution_count": 13,
   "metadata": {},
   "outputs": [
    {
     "data": {
      "text/plain": [
       "0.09523809523809523"
      ]
     },
     "execution_count": 13,
     "metadata": {},
     "output_type": "execute_result"
    }
   ],
   "source": [
    "error_rate"
   ]
  },
  {
   "cell_type": "markdown",
   "metadata": {},
   "source": [
    "### 多分类为概率"
   ]
  },
  {
   "cell_type": "code",
   "execution_count": 14,
   "metadata": {},
   "outputs": [],
   "source": [
    "# 设置参数\n",
    "params[\"objective\"] = \"multi:softprob\""
   ]
  },
  {
   "cell_type": "code",
   "execution_count": 15,
   "metadata": {},
   "outputs": [
    {
     "name": "stdout",
     "output_type": "stream",
     "text": [
      "[0]\ttraining-mlogloss:1.03486\ttesting-mlogloss:1.04236\n",
      "[1]\ttraining-mlogloss:0.97661\ttesting-mlogloss:0.99264\n",
      "[2]\ttraining-mlogloss:0.92288\ttesting-mlogloss:0.94710\n",
      "[3]\ttraining-mlogloss:0.87294\ttesting-mlogloss:0.90375\n",
      "[4]\ttraining-mlogloss:0.82683\ttesting-mlogloss:0.86525\n",
      "[5]\ttraining-mlogloss:0.78345\ttesting-mlogloss:0.82644\n",
      "[6]\ttraining-mlogloss:0.74350\ttesting-mlogloss:0.79361\n",
      "[7]\ttraining-mlogloss:0.70575\ttesting-mlogloss:0.75971\n",
      "[8]\ttraining-mlogloss:0.67087\ttesting-mlogloss:0.73156\n",
      "[9]\ttraining-mlogloss:0.63813\ttesting-mlogloss:0.70459\n",
      "[10]\ttraining-mlogloss:0.60718\ttesting-mlogloss:0.67808\n",
      "[11]\ttraining-mlogloss:0.57828\ttesting-mlogloss:0.65310\n",
      "[12]\ttraining-mlogloss:0.55132\ttesting-mlogloss:0.63193\n",
      "[13]\ttraining-mlogloss:0.52586\ttesting-mlogloss:0.61171\n",
      "[14]\ttraining-mlogloss:0.50163\ttesting-mlogloss:0.59077\n",
      "[15]\ttraining-mlogloss:0.47913\ttesting-mlogloss:0.57406\n",
      "[16]\ttraining-mlogloss:0.45779\ttesting-mlogloss:0.55739\n",
      "[17]\ttraining-mlogloss:0.43765\ttesting-mlogloss:0.54084\n",
      "[18]\ttraining-mlogloss:0.41825\ttesting-mlogloss:0.52595\n",
      "[19]\ttraining-mlogloss:0.39993\ttesting-mlogloss:0.51161\n",
      "[20]\ttraining-mlogloss:0.38292\ttesting-mlogloss:0.49888\n",
      "[21]\ttraining-mlogloss:0.36647\ttesting-mlogloss:0.48546\n",
      "[22]\ttraining-mlogloss:0.35130\ttesting-mlogloss:0.47437\n",
      "[23]\ttraining-mlogloss:0.33590\ttesting-mlogloss:0.46251\n",
      "[24]\ttraining-mlogloss:0.32144\ttesting-mlogloss:0.45181\n",
      "[25]\ttraining-mlogloss:0.30751\ttesting-mlogloss:0.44225\n",
      "[26]\ttraining-mlogloss:0.29444\ttesting-mlogloss:0.43285\n",
      "[27]\ttraining-mlogloss:0.28202\ttesting-mlogloss:0.42432\n",
      "[28]\ttraining-mlogloss:0.27013\ttesting-mlogloss:0.41634\n",
      "[29]\ttraining-mlogloss:0.25952\ttesting-mlogloss:0.40980\n",
      "[30]\ttraining-mlogloss:0.24876\ttesting-mlogloss:0.40172\n",
      "[31]\ttraining-mlogloss:0.23892\ttesting-mlogloss:0.39411\n",
      "[32]\ttraining-mlogloss:0.22919\ttesting-mlogloss:0.38714\n",
      "[33]\ttraining-mlogloss:0.21993\ttesting-mlogloss:0.38048\n",
      "[34]\ttraining-mlogloss:0.21160\ttesting-mlogloss:0.37450\n",
      "[35]\ttraining-mlogloss:0.20346\ttesting-mlogloss:0.36906\n",
      "[36]\ttraining-mlogloss:0.19545\ttesting-mlogloss:0.36361\n",
      "[37]\ttraining-mlogloss:0.18824\ttesting-mlogloss:0.35873\n",
      "[38]\ttraining-mlogloss:0.18081\ttesting-mlogloss:0.35420\n",
      "[39]\ttraining-mlogloss:0.17429\ttesting-mlogloss:0.34971\n",
      "[40]\ttraining-mlogloss:0.16805\ttesting-mlogloss:0.34576\n",
      "[41]\ttraining-mlogloss:0.16161\ttesting-mlogloss:0.34252\n",
      "[42]\ttraining-mlogloss:0.15601\ttesting-mlogloss:0.33878\n",
      "[43]\ttraining-mlogloss:0.15055\ttesting-mlogloss:0.33588\n",
      "[44]\ttraining-mlogloss:0.14515\ttesting-mlogloss:0.33286\n",
      "[45]\ttraining-mlogloss:0.14015\ttesting-mlogloss:0.33042\n",
      "[46]\ttraining-mlogloss:0.13537\ttesting-mlogloss:0.32819\n",
      "[47]\ttraining-mlogloss:0.13075\ttesting-mlogloss:0.32588\n",
      "[48]\ttraining-mlogloss:0.12646\ttesting-mlogloss:0.32374\n",
      "[49]\ttraining-mlogloss:0.12241\ttesting-mlogloss:0.32230\n"
     ]
    }
   ],
   "source": [
    "model = xgb.train(params=params, dtrain=xgb_train, num_boost_round=num_round, evals=watch_list)"
   ]
  },
  {
   "cell_type": "code",
   "execution_count": 16,
   "metadata": {},
   "outputs": [
    {
     "data": {
      "text/plain": [
       "array([[0.79855704, 0.11397931, 0.08746363],\n",
       "       [0.04125691, 0.03817596, 0.9205671 ],\n",
       "       [0.07750168, 0.8617733 , 0.06072503],\n",
       "       [0.04363484, 0.03824778, 0.91811734],\n",
       "       [0.84569675, 0.10991898, 0.04438426],\n",
       "       [0.04206957, 0.9209339 , 0.03699661],\n",
       "       [0.9258295 , 0.03706415, 0.03710629],\n",
       "       [0.04363484, 0.03824778, 0.91811734],\n",
       "       [0.05066575, 0.03871052, 0.91062367],\n",
       "       [0.04147132, 0.03816742, 0.9203613 ],\n",
       "       [0.0407352 , 0.92221665, 0.03704814],\n",
       "       [0.8705673 , 0.08374319, 0.04568953],\n",
       "       [0.86869556, 0.06561491, 0.06568953],\n",
       "       [0.9039212 , 0.0543628 , 0.04171607],\n",
       "       [0.13954651, 0.07218403, 0.78826946],\n",
       "       [0.04125691, 0.03817596, 0.9205671 ],\n",
       "       [0.04125691, 0.03817596, 0.9205671 ],\n",
       "       [0.90981895, 0.04506492, 0.04511617],\n",
       "       [0.92227495, 0.03884043, 0.0388846 ],\n",
       "       [0.9258295 , 0.03706415, 0.03710629],\n",
       "       [0.72918797, 0.22802965, 0.04278241],\n",
       "       [0.18569647, 0.7718561 , 0.04244742],\n",
       "       [0.0407352 , 0.92221665, 0.03704814],\n",
       "       [0.04234219, 0.03813275, 0.919525  ],\n",
       "       [0.9258295 , 0.03706415, 0.03710629],\n",
       "       [0.04125691, 0.03817596, 0.9205671 ],\n",
       "       [0.9258295 , 0.03706415, 0.03710629],\n",
       "       [0.04125691, 0.03817596, 0.9205671 ],\n",
       "       [0.9148961 , 0.04252777, 0.04257613],\n",
       "       [0.06519979, 0.8979013 , 0.0368989 ],\n",
       "       [0.04492639, 0.9181873 , 0.03688627],\n",
       "       [0.04206957, 0.9209339 , 0.03699661],\n",
       "       [0.04572799, 0.9174167 , 0.03685531],\n",
       "       [0.9122415 , 0.04385429, 0.04390416],\n",
       "       [0.80937916, 0.09636422, 0.09425662],\n",
       "       [0.04492639, 0.9181873 , 0.03688627],\n",
       "       [0.04147132, 0.03816742, 0.9203613 ],\n",
       "       [0.04206957, 0.9209339 , 0.03699661],\n",
       "       [0.6523705 , 0.08635463, 0.26127484],\n",
       "       [0.04550915, 0.03817282, 0.916318  ],\n",
       "       [0.04742242, 0.03884277, 0.9137348 ],\n",
       "       [0.05103659, 0.0410142 , 0.9079492 ]], dtype=float32)"
      ]
     },
     "execution_count": 16,
     "metadata": {},
     "output_type": "execute_result"
    }
   ],
   "source": [
    "y_pred_prob = model.predict(xgb_test)\n",
    "y_pred_prob"
   ]
  },
  {
   "cell_type": "code",
   "execution_count": 17,
   "metadata": {},
   "outputs": [
    {
     "data": {
      "text/plain": [
       "array([0, 2, 1, 2, 0, 1, 0, 2, 2, 2, 1, 0, 0, 0, 2, 2, 2, 0, 0, 0, 0, 1,\n",
       "       1, 2, 0, 2, 0, 2, 0, 1, 1, 1, 1, 0, 0, 1, 2, 1, 0, 2, 2, 2])"
      ]
     },
     "execution_count": 17,
     "metadata": {},
     "output_type": "execute_result"
    }
   ],
   "source": [
    "pred_label = np.argmax(y_pred_prob, axis=1)\n",
    "pred_label"
   ]
  },
  {
   "cell_type": "code",
   "execution_count": 18,
   "metadata": {},
   "outputs": [
    {
     "data": {
      "text/plain": [
       "0.09523809523809523"
      ]
     },
     "execution_count": 18,
     "metadata": {},
     "output_type": "execute_result"
    }
   ],
   "source": [
    "# 计算错误率\n",
    "error_rate = np.sum(pred_label != data_test.label) / data_test.shape[0]\n",
    "error_rate"
   ]
  }
 ],
 "metadata": {
  "kernelspec": {
   "display_name": "Python 3",
   "language": "python",
   "name": "python3"
  },
  "language_info": {
   "codemirror_mode": {
    "name": "ipython",
    "version": 3
   },
   "file_extension": ".py",
   "mimetype": "text/x-python",
   "name": "python",
   "nbconvert_exporter": "python",
   "pygments_lexer": "ipython3",
   "version": "3.8.3"
  }
 },
 "nbformat": 4,
 "nbformat_minor": 4
}
